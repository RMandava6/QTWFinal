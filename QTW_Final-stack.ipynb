{
 "cells": [
  {
   "cell_type": "code",
   "execution_count": 26,
   "metadata": {},
   "outputs": [
    {
     "name": "stdout",
     "output_type": "stream",
     "text": [
      "Requirement already satisfied: xgboost in /anaconda3/lib/python3.6/site-packages (0.81)\r\n",
      "Requirement already satisfied: scipy in /anaconda3/lib/python3.6/site-packages (from xgboost) (1.0.0)\r\n",
      "Requirement already satisfied: numpy in /anaconda3/lib/python3.6/site-packages (from xgboost) (1.15.3)\r\n"
     ]
    }
   ],
   "source": [
    "import sys\n",
    "!{sys.executable} -m pip install xgboost"
   ]
  },
  {
   "cell_type": "code",
   "execution_count": 27,
   "metadata": {},
   "outputs": [],
   "source": [
    "import pandas as pd\n",
    "import numpy as np\n",
    "from sklearn.ensemble import RandomForestClassifier\n",
    "from sklearn.metrics import roc_auc_score\n",
    "from sklearn.model_selection import KFold\n",
    "from sklearn.linear_model import LogisticRegression\n",
    "import matplotlib.pyplot as plt"
   ]
  },
  {
   "cell_type": "code",
   "execution_count": 28,
   "metadata": {},
   "outputs": [],
   "source": [
    "# model_selection\n",
    "from sklearn.model_selection import GridSearchCV\n",
    "from sklearn.model_selection import KFold\n",
    "from sklearn.model_selection import RandomizedSearchCV\n",
    "from sklearn.model_selection import train_test_split\n",
    "\n",
    "# linear classifiers\n",
    "from sklearn.linear_model import LogisticRegression\n",
    "from sklearn.discriminant_analysis import LinearDiscriminantAnalysis\n",
    "\n",
    "# non-linear classifiers\n",
    "from sklearn.tree import DecisionTreeClassifier\n",
    "from sklearn.neighbors import KNeighborsClassifier\n",
    "from sklearn.naive_bayes import GaussianNB\n",
    "from xgboost import XGBClassifier\n",
    "\n",
    "# ensemble learners\n",
    "from sklearn.ensemble import GradientBoostingClassifier\n",
    "from sklearn.ensemble import RandomForestClassifier\n",
    "from sklearn.ensemble import AdaBoostClassifier\n",
    "from sklearn.ensemble import VotingClassifier"
   ]
  },
  {
   "cell_type": "code",
   "execution_count": null,
   "metadata": {},
   "outputs": [],
   "source": [
    "#train=pd.read_csv(\"final_project.csv\",nrows=128000,header=0) # 160001"
   ]
  },
  {
   "cell_type": "code",
   "execution_count": null,
   "metadata": {},
   "outputs": [],
   "source": [
    "#test=pd.read_csv(\"final_project.csv\",nrows=32000,skiprows=128000,header=0)"
   ]
  },
  {
   "cell_type": "code",
   "execution_count": 29,
   "metadata": {},
   "outputs": [],
   "source": [
    "data =pd.read_csv(\"/Users/ramya/Desktop/final_project.csv\",header=0) # 160001"
   ]
  },
  {
   "cell_type": "code",
   "execution_count": 30,
   "metadata": {},
   "outputs": [
    {
     "data": {
      "text/html": [
       "<div>\n",
       "<style scoped>\n",
       "    .dataframe tbody tr th:only-of-type {\n",
       "        vertical-align: middle;\n",
       "    }\n",
       "\n",
       "    .dataframe tbody tr th {\n",
       "        vertical-align: top;\n",
       "    }\n",
       "\n",
       "    .dataframe thead th {\n",
       "        text-align: right;\n",
       "    }\n",
       "</style>\n",
       "<table border=\"1\" class=\"dataframe\">\n",
       "  <thead>\n",
       "    <tr style=\"text-align: right;\">\n",
       "      <th></th>\n",
       "      <th>x0</th>\n",
       "      <th>x1</th>\n",
       "      <th>x2</th>\n",
       "      <th>x3</th>\n",
       "      <th>x4</th>\n",
       "      <th>x5</th>\n",
       "      <th>x6</th>\n",
       "      <th>x7</th>\n",
       "      <th>x8</th>\n",
       "      <th>x9</th>\n",
       "      <th>...</th>\n",
       "      <th>x41</th>\n",
       "      <th>x42</th>\n",
       "      <th>x43</th>\n",
       "      <th>x44</th>\n",
       "      <th>x45</th>\n",
       "      <th>x46</th>\n",
       "      <th>x47</th>\n",
       "      <th>x48</th>\n",
       "      <th>x49</th>\n",
       "      <th>y</th>\n",
       "    </tr>\n",
       "  </thead>\n",
       "  <tbody>\n",
       "    <tr>\n",
       "      <th>0</th>\n",
       "      <td>-0.166563</td>\n",
       "      <td>-3.961588</td>\n",
       "      <td>4.621113</td>\n",
       "      <td>2.481908</td>\n",
       "      <td>-1.800135</td>\n",
       "      <td>0.804684</td>\n",
       "      <td>6.718751</td>\n",
       "      <td>-14.789997</td>\n",
       "      <td>-1.040673</td>\n",
       "      <td>-4.204950</td>\n",
       "      <td>...</td>\n",
       "      <td>-1.497117</td>\n",
       "      <td>5.414063</td>\n",
       "      <td>-2.325655</td>\n",
       "      <td>1.674827</td>\n",
       "      <td>-0.264332</td>\n",
       "      <td>60.781427</td>\n",
       "      <td>-7.689696</td>\n",
       "      <td>0.151589</td>\n",
       "      <td>-8.040166</td>\n",
       "      <td>0</td>\n",
       "    </tr>\n",
       "    <tr>\n",
       "      <th>1</th>\n",
       "      <td>-0.149894</td>\n",
       "      <td>-0.585676</td>\n",
       "      <td>27.839856</td>\n",
       "      <td>4.152333</td>\n",
       "      <td>6.426802</td>\n",
       "      <td>-2.426943</td>\n",
       "      <td>40.477058</td>\n",
       "      <td>-6.725709</td>\n",
       "      <td>0.896421</td>\n",
       "      <td>0.330165</td>\n",
       "      <td>...</td>\n",
       "      <td>36.292790</td>\n",
       "      <td>4.490915</td>\n",
       "      <td>0.762561</td>\n",
       "      <td>6.526662</td>\n",
       "      <td>1.007927</td>\n",
       "      <td>15.805696</td>\n",
       "      <td>-4.896678</td>\n",
       "      <td>-0.320283</td>\n",
       "      <td>16.719974</td>\n",
       "      <td>0</td>\n",
       "    </tr>\n",
       "    <tr>\n",
       "      <th>2</th>\n",
       "      <td>-0.321707</td>\n",
       "      <td>-1.429819</td>\n",
       "      <td>12.251561</td>\n",
       "      <td>6.586874</td>\n",
       "      <td>-5.304647</td>\n",
       "      <td>-11.311090</td>\n",
       "      <td>17.812850</td>\n",
       "      <td>11.060572</td>\n",
       "      <td>5.325880</td>\n",
       "      <td>-2.632984</td>\n",
       "      <td>...</td>\n",
       "      <td>-0.368491</td>\n",
       "      <td>9.088864</td>\n",
       "      <td>-0.689886</td>\n",
       "      <td>-2.731118</td>\n",
       "      <td>0.754200</td>\n",
       "      <td>30.856417</td>\n",
       "      <td>-7.428573</td>\n",
       "      <td>-2.090804</td>\n",
       "      <td>-7.869421</td>\n",
       "      <td>0</td>\n",
       "    </tr>\n",
       "    <tr>\n",
       "      <th>3</th>\n",
       "      <td>-0.245594</td>\n",
       "      <td>5.076677</td>\n",
       "      <td>-24.149632</td>\n",
       "      <td>3.637307</td>\n",
       "      <td>6.505811</td>\n",
       "      <td>2.290224</td>\n",
       "      <td>-35.111751</td>\n",
       "      <td>-18.913592</td>\n",
       "      <td>-0.337041</td>\n",
       "      <td>-5.568076</td>\n",
       "      <td>...</td>\n",
       "      <td>15.691546</td>\n",
       "      <td>-7.467775</td>\n",
       "      <td>2.940789</td>\n",
       "      <td>-6.424112</td>\n",
       "      <td>0.419776</td>\n",
       "      <td>-72.424569</td>\n",
       "      <td>5.361375</td>\n",
       "      <td>1.806070</td>\n",
       "      <td>-7.670847</td>\n",
       "      <td>0</td>\n",
       "    </tr>\n",
       "    <tr>\n",
       "      <th>4</th>\n",
       "      <td>-0.273366</td>\n",
       "      <td>0.306326</td>\n",
       "      <td>-11.352593</td>\n",
       "      <td>1.676758</td>\n",
       "      <td>2.928441</td>\n",
       "      <td>-0.616824</td>\n",
       "      <td>-16.505817</td>\n",
       "      <td>27.532281</td>\n",
       "      <td>1.199715</td>\n",
       "      <td>-4.309105</td>\n",
       "      <td>...</td>\n",
       "      <td>-13.911297</td>\n",
       "      <td>-5.229937</td>\n",
       "      <td>1.783928</td>\n",
       "      <td>3.957801</td>\n",
       "      <td>-0.096988</td>\n",
       "      <td>-14.085435</td>\n",
       "      <td>-0.208351</td>\n",
       "      <td>-0.894942</td>\n",
       "      <td>15.724742</td>\n",
       "      <td>1</td>\n",
       "    </tr>\n",
       "  </tbody>\n",
       "</table>\n",
       "<p>5 rows × 51 columns</p>\n",
       "</div>"
      ],
      "text/plain": [
       "         x0        x1         x2        x3        x4         x5         x6  \\\n",
       "0 -0.166563 -3.961588   4.621113  2.481908 -1.800135   0.804684   6.718751   \n",
       "1 -0.149894 -0.585676  27.839856  4.152333  6.426802  -2.426943  40.477058   \n",
       "2 -0.321707 -1.429819  12.251561  6.586874 -5.304647 -11.311090  17.812850   \n",
       "3 -0.245594  5.076677 -24.149632  3.637307  6.505811   2.290224 -35.111751   \n",
       "4 -0.273366  0.306326 -11.352593  1.676758  2.928441  -0.616824 -16.505817   \n",
       "\n",
       "          x7        x8        x9 ...        x41       x42       x43       x44  \\\n",
       "0 -14.789997 -1.040673 -4.204950 ...  -1.497117  5.414063 -2.325655  1.674827   \n",
       "1  -6.725709  0.896421  0.330165 ...  36.292790  4.490915  0.762561  6.526662   \n",
       "2  11.060572  5.325880 -2.632984 ...  -0.368491  9.088864 -0.689886 -2.731118   \n",
       "3 -18.913592 -0.337041 -5.568076 ...  15.691546 -7.467775  2.940789 -6.424112   \n",
       "4  27.532281  1.199715 -4.309105 ... -13.911297 -5.229937  1.783928  3.957801   \n",
       "\n",
       "        x45        x46       x47       x48        x49  y  \n",
       "0 -0.264332  60.781427 -7.689696  0.151589  -8.040166  0  \n",
       "1  1.007927  15.805696 -4.896678 -0.320283  16.719974  0  \n",
       "2  0.754200  30.856417 -7.428573 -2.090804  -7.869421  0  \n",
       "3  0.419776 -72.424569  5.361375  1.806070  -7.670847  0  \n",
       "4 -0.096988 -14.085435 -0.208351 -0.894942  15.724742  1  \n",
       "\n",
       "[5 rows x 51 columns]"
      ]
     },
     "execution_count": 30,
     "metadata": {},
     "output_type": "execute_result"
    }
   ],
   "source": [
    "data.head()"
   ]
  },
  {
   "cell_type": "code",
   "execution_count": 31,
   "metadata": {},
   "outputs": [
    {
     "name": "stdout",
     "output_type": "stream",
     "text": [
      "<class 'pandas.core.frame.DataFrame'>\n",
      "RangeIndex: 160000 entries, 0 to 159999\n",
      "Data columns (total 51 columns):\n",
      "x0     159974 non-null float64\n",
      "x1     159975 non-null float64\n",
      "x2     159962 non-null float64\n",
      "x3     159963 non-null float64\n",
      "x4     159974 non-null float64\n",
      "x5     159963 non-null float64\n",
      "x6     159974 non-null float64\n",
      "x7     159973 non-null float64\n",
      "x8     159979 non-null float64\n",
      "x9     159970 non-null float64\n",
      "x10    159957 non-null float64\n",
      "x11    159970 non-null float64\n",
      "x12    159964 non-null float64\n",
      "x13    159969 non-null float64\n",
      "x14    159966 non-null float64\n",
      "x15    159965 non-null float64\n",
      "x16    159974 non-null float64\n",
      "x17    159973 non-null float64\n",
      "x18    159960 non-null float64\n",
      "x19    159965 non-null float64\n",
      "x20    159962 non-null float64\n",
      "x21    159971 non-null float64\n",
      "x22    159973 non-null float64\n",
      "x23    159953 non-null float64\n",
      "x24    159972 non-null object\n",
      "x25    159978 non-null float64\n",
      "x26    159964 non-null float64\n",
      "x27    159970 non-null float64\n",
      "x28    159965 non-null float64\n",
      "x29    159970 non-null object\n",
      "x30    159970 non-null object\n",
      "x31    159961 non-null float64\n",
      "x32    159969 non-null object\n",
      "x33    159959 non-null float64\n",
      "x34    159959 non-null float64\n",
      "x35    159970 non-null float64\n",
      "x36    159973 non-null float64\n",
      "x37    159977 non-null object\n",
      "x38    159969 non-null float64\n",
      "x39    159977 non-null float64\n",
      "x40    159964 non-null float64\n",
      "x41    159960 non-null float64\n",
      "x42    159974 non-null float64\n",
      "x43    159963 non-null float64\n",
      "x44    159960 non-null float64\n",
      "x45    159971 non-null float64\n",
      "x46    159969 non-null float64\n",
      "x47    159963 non-null float64\n",
      "x48    159968 non-null float64\n",
      "x49    159968 non-null float64\n",
      "y      160000 non-null int64\n",
      "dtypes: float64(45), int64(1), object(5)\n",
      "memory usage: 62.3+ MB\n"
     ]
    },
    {
     "data": {
      "text/html": [
       "<div>\n",
       "<style scoped>\n",
       "    .dataframe tbody tr th:only-of-type {\n",
       "        vertical-align: middle;\n",
       "    }\n",
       "\n",
       "    .dataframe tbody tr th {\n",
       "        vertical-align: top;\n",
       "    }\n",
       "\n",
       "    .dataframe thead th {\n",
       "        text-align: right;\n",
       "    }\n",
       "</style>\n",
       "<table border=\"1\" class=\"dataframe\">\n",
       "  <thead>\n",
       "    <tr style=\"text-align: right;\">\n",
       "      <th></th>\n",
       "      <th>x0</th>\n",
       "      <th>x1</th>\n",
       "      <th>x2</th>\n",
       "      <th>x3</th>\n",
       "      <th>x4</th>\n",
       "      <th>x5</th>\n",
       "      <th>x6</th>\n",
       "      <th>x7</th>\n",
       "      <th>x8</th>\n",
       "      <th>x9</th>\n",
       "      <th>...</th>\n",
       "      <th>x41</th>\n",
       "      <th>x42</th>\n",
       "      <th>x43</th>\n",
       "      <th>x44</th>\n",
       "      <th>x45</th>\n",
       "      <th>x46</th>\n",
       "      <th>x47</th>\n",
       "      <th>x48</th>\n",
       "      <th>x49</th>\n",
       "      <th>y</th>\n",
       "    </tr>\n",
       "  </thead>\n",
       "  <tbody>\n",
       "    <tr>\n",
       "      <th>count</th>\n",
       "      <td>159974.000000</td>\n",
       "      <td>159975.000000</td>\n",
       "      <td>159962.000000</td>\n",
       "      <td>159963.000000</td>\n",
       "      <td>159974.000000</td>\n",
       "      <td>159963.000000</td>\n",
       "      <td>159974.000000</td>\n",
       "      <td>159973.000000</td>\n",
       "      <td>159979.000000</td>\n",
       "      <td>159970.000000</td>\n",
       "      <td>...</td>\n",
       "      <td>159960.000000</td>\n",
       "      <td>159974.000000</td>\n",
       "      <td>159963.000000</td>\n",
       "      <td>159960.000000</td>\n",
       "      <td>159971.000000</td>\n",
       "      <td>159969.000000</td>\n",
       "      <td>159963.000000</td>\n",
       "      <td>159968.000000</td>\n",
       "      <td>159968.000000</td>\n",
       "      <td>160000.000000</td>\n",
       "    </tr>\n",
       "    <tr>\n",
       "      <th>mean</th>\n",
       "      <td>-0.001028</td>\n",
       "      <td>0.001358</td>\n",
       "      <td>-1.150145</td>\n",
       "      <td>-0.024637</td>\n",
       "      <td>-0.000549</td>\n",
       "      <td>0.013582</td>\n",
       "      <td>-1.670670</td>\n",
       "      <td>-7.692795</td>\n",
       "      <td>-0.030540</td>\n",
       "      <td>0.005462</td>\n",
       "      <td>...</td>\n",
       "      <td>6.701076</td>\n",
       "      <td>-1.833820</td>\n",
       "      <td>-0.002091</td>\n",
       "      <td>-0.006250</td>\n",
       "      <td>0.000885</td>\n",
       "      <td>-12.755395</td>\n",
       "      <td>0.028622</td>\n",
       "      <td>-0.000224</td>\n",
       "      <td>-0.674224</td>\n",
       "      <td>0.401231</td>\n",
       "    </tr>\n",
       "    <tr>\n",
       "      <th>std</th>\n",
       "      <td>0.371137</td>\n",
       "      <td>6.340632</td>\n",
       "      <td>13.273480</td>\n",
       "      <td>8.065032</td>\n",
       "      <td>6.382293</td>\n",
       "      <td>7.670076</td>\n",
       "      <td>19.298665</td>\n",
       "      <td>30.542264</td>\n",
       "      <td>8.901185</td>\n",
       "      <td>6.355040</td>\n",
       "      <td>...</td>\n",
       "      <td>18.680196</td>\n",
       "      <td>5.110705</td>\n",
       "      <td>1.534952</td>\n",
       "      <td>4.164595</td>\n",
       "      <td>0.396621</td>\n",
       "      <td>36.608641</td>\n",
       "      <td>4.788157</td>\n",
       "      <td>1.935501</td>\n",
       "      <td>15.036738</td>\n",
       "      <td>0.490149</td>\n",
       "    </tr>\n",
       "    <tr>\n",
       "      <th>min</th>\n",
       "      <td>-1.592635</td>\n",
       "      <td>-26.278302</td>\n",
       "      <td>-59.394048</td>\n",
       "      <td>-35.476594</td>\n",
       "      <td>-28.467536</td>\n",
       "      <td>-33.822988</td>\n",
       "      <td>-86.354483</td>\n",
       "      <td>-181.506976</td>\n",
       "      <td>-37.691045</td>\n",
       "      <td>-27.980659</td>\n",
       "      <td>...</td>\n",
       "      <td>-82.167224</td>\n",
       "      <td>-27.933750</td>\n",
       "      <td>-6.876234</td>\n",
       "      <td>-17.983487</td>\n",
       "      <td>-1.753221</td>\n",
       "      <td>-201.826828</td>\n",
       "      <td>-21.086333</td>\n",
       "      <td>-8.490155</td>\n",
       "      <td>-65.791191</td>\n",
       "      <td>0.000000</td>\n",
       "    </tr>\n",
       "    <tr>\n",
       "      <th>25%</th>\n",
       "      <td>-0.251641</td>\n",
       "      <td>-4.260973</td>\n",
       "      <td>-10.166536</td>\n",
       "      <td>-5.454438</td>\n",
       "      <td>-4.313118</td>\n",
       "      <td>-5.148130</td>\n",
       "      <td>-14.780146</td>\n",
       "      <td>-27.324771</td>\n",
       "      <td>-6.031058</td>\n",
       "      <td>-4.260619</td>\n",
       "      <td>...</td>\n",
       "      <td>-5.804080</td>\n",
       "      <td>-5.162869</td>\n",
       "      <td>-1.039677</td>\n",
       "      <td>-2.812055</td>\n",
       "      <td>-0.266518</td>\n",
       "      <td>-36.428329</td>\n",
       "      <td>-3.216016</td>\n",
       "      <td>-1.320800</td>\n",
       "      <td>-10.931753</td>\n",
       "      <td>0.000000</td>\n",
       "    </tr>\n",
       "    <tr>\n",
       "      <th>50%</th>\n",
       "      <td>-0.002047</td>\n",
       "      <td>0.004813</td>\n",
       "      <td>-1.340932</td>\n",
       "      <td>-0.031408</td>\n",
       "      <td>0.000857</td>\n",
       "      <td>0.014118</td>\n",
       "      <td>-1.948594</td>\n",
       "      <td>-6.956789</td>\n",
       "      <td>-0.016840</td>\n",
       "      <td>0.006045</td>\n",
       "      <td>...</td>\n",
       "      <td>6.840110</td>\n",
       "      <td>-1.923754</td>\n",
       "      <td>-0.004385</td>\n",
       "      <td>-0.010484</td>\n",
       "      <td>0.001645</td>\n",
       "      <td>-12.982497</td>\n",
       "      <td>0.035865</td>\n",
       "      <td>-0.011993</td>\n",
       "      <td>-0.574410</td>\n",
       "      <td>0.000000</td>\n",
       "    </tr>\n",
       "    <tr>\n",
       "      <th>75%</th>\n",
       "      <td>0.248532</td>\n",
       "      <td>4.284220</td>\n",
       "      <td>7.871676</td>\n",
       "      <td>5.445179</td>\n",
       "      <td>4.306660</td>\n",
       "      <td>5.190749</td>\n",
       "      <td>11.446931</td>\n",
       "      <td>12.217071</td>\n",
       "      <td>5.972349</td>\n",
       "      <td>4.305734</td>\n",
       "      <td>...</td>\n",
       "      <td>19.266367</td>\n",
       "      <td>1.453507</td>\n",
       "      <td>1.033275</td>\n",
       "      <td>2.783274</td>\n",
       "      <td>0.269049</td>\n",
       "      <td>11.445443</td>\n",
       "      <td>3.268028</td>\n",
       "      <td>1.317703</td>\n",
       "      <td>9.651072</td>\n",
       "      <td>1.000000</td>\n",
       "    </tr>\n",
       "    <tr>\n",
       "      <th>max</th>\n",
       "      <td>1.600849</td>\n",
       "      <td>27.988178</td>\n",
       "      <td>63.545653</td>\n",
       "      <td>38.906025</td>\n",
       "      <td>26.247812</td>\n",
       "      <td>35.550110</td>\n",
       "      <td>92.390605</td>\n",
       "      <td>149.150634</td>\n",
       "      <td>39.049831</td>\n",
       "      <td>27.377842</td>\n",
       "      <td>...</td>\n",
       "      <td>100.050432</td>\n",
       "      <td>22.668041</td>\n",
       "      <td>6.680922</td>\n",
       "      <td>19.069759</td>\n",
       "      <td>1.669205</td>\n",
       "      <td>150.859415</td>\n",
       "      <td>20.836854</td>\n",
       "      <td>8.226552</td>\n",
       "      <td>66.877604</td>\n",
       "      <td>1.000000</td>\n",
       "    </tr>\n",
       "  </tbody>\n",
       "</table>\n",
       "<p>8 rows × 46 columns</p>\n",
       "</div>"
      ],
      "text/plain": [
       "                  x0             x1             x2             x3  \\\n",
       "count  159974.000000  159975.000000  159962.000000  159963.000000   \n",
       "mean       -0.001028       0.001358      -1.150145      -0.024637   \n",
       "std         0.371137       6.340632      13.273480       8.065032   \n",
       "min        -1.592635     -26.278302     -59.394048     -35.476594   \n",
       "25%        -0.251641      -4.260973     -10.166536      -5.454438   \n",
       "50%        -0.002047       0.004813      -1.340932      -0.031408   \n",
       "75%         0.248532       4.284220       7.871676       5.445179   \n",
       "max         1.600849      27.988178      63.545653      38.906025   \n",
       "\n",
       "                  x4             x5             x6             x7  \\\n",
       "count  159974.000000  159963.000000  159974.000000  159973.000000   \n",
       "mean       -0.000549       0.013582      -1.670670      -7.692795   \n",
       "std         6.382293       7.670076      19.298665      30.542264   \n",
       "min       -28.467536     -33.822988     -86.354483    -181.506976   \n",
       "25%        -4.313118      -5.148130     -14.780146     -27.324771   \n",
       "50%         0.000857       0.014118      -1.948594      -6.956789   \n",
       "75%         4.306660       5.190749      11.446931      12.217071   \n",
       "max        26.247812      35.550110      92.390605     149.150634   \n",
       "\n",
       "                  x8             x9      ...                  x41  \\\n",
       "count  159979.000000  159970.000000      ...        159960.000000   \n",
       "mean       -0.030540       0.005462      ...             6.701076   \n",
       "std         8.901185       6.355040      ...            18.680196   \n",
       "min       -37.691045     -27.980659      ...           -82.167224   \n",
       "25%        -6.031058      -4.260619      ...            -5.804080   \n",
       "50%        -0.016840       0.006045      ...             6.840110   \n",
       "75%         5.972349       4.305734      ...            19.266367   \n",
       "max        39.049831      27.377842      ...           100.050432   \n",
       "\n",
       "                 x42            x43            x44            x45  \\\n",
       "count  159974.000000  159963.000000  159960.000000  159971.000000   \n",
       "mean       -1.833820      -0.002091      -0.006250       0.000885   \n",
       "std         5.110705       1.534952       4.164595       0.396621   \n",
       "min       -27.933750      -6.876234     -17.983487      -1.753221   \n",
       "25%        -5.162869      -1.039677      -2.812055      -0.266518   \n",
       "50%        -1.923754      -0.004385      -0.010484       0.001645   \n",
       "75%         1.453507       1.033275       2.783274       0.269049   \n",
       "max        22.668041       6.680922      19.069759       1.669205   \n",
       "\n",
       "                 x46            x47            x48            x49  \\\n",
       "count  159969.000000  159963.000000  159968.000000  159968.000000   \n",
       "mean      -12.755395       0.028622      -0.000224      -0.674224   \n",
       "std        36.608641       4.788157       1.935501      15.036738   \n",
       "min      -201.826828     -21.086333      -8.490155     -65.791191   \n",
       "25%       -36.428329      -3.216016      -1.320800     -10.931753   \n",
       "50%       -12.982497       0.035865      -0.011993      -0.574410   \n",
       "75%        11.445443       3.268028       1.317703       9.651072   \n",
       "max       150.859415      20.836854       8.226552      66.877604   \n",
       "\n",
       "                   y  \n",
       "count  160000.000000  \n",
       "mean        0.401231  \n",
       "std         0.490149  \n",
       "min         0.000000  \n",
       "25%         0.000000  \n",
       "50%         0.000000  \n",
       "75%         1.000000  \n",
       "max         1.000000  \n",
       "\n",
       "[8 rows x 46 columns]"
      ]
     },
     "execution_count": 31,
     "metadata": {},
     "output_type": "execute_result"
    }
   ],
   "source": [
    "data.info()\n",
    "data.describe()"
   ]
  },
  {
   "cell_type": "code",
   "execution_count": 32,
   "metadata": {},
   "outputs": [
    {
     "data": {
      "text/plain": [
       "(160000, 51)"
      ]
     },
     "execution_count": 32,
     "metadata": {},
     "output_type": "execute_result"
    }
   ],
   "source": [
    "data.shape"
   ]
  },
  {
   "cell_type": "code",
   "execution_count": 33,
   "metadata": {},
   "outputs": [],
   "source": [
    "df = data"
   ]
  },
  {
   "cell_type": "code",
   "execution_count": 34,
   "metadata": {},
   "outputs": [
    {
     "data": {
      "text/plain": [
       "Index(['x0', 'x1', 'x2', 'x3', 'x4', 'x5', 'x6', 'x7', 'x8', 'x9', 'x10',\n",
       "       'x11', 'x12', 'x13', 'x14', 'x15', 'x16', 'x17', 'x18', 'x19', 'x20',\n",
       "       'x21', 'x22', 'x23', 'x24', 'x25', 'x26', 'x27', 'x28', 'x29', 'x30',\n",
       "       'x31', 'x32', 'x33', 'x34', 'x35', 'x36', 'x37', 'x38', 'x39', 'x40',\n",
       "       'x41', 'x42', 'x43', 'x44', 'x45', 'x46', 'x47', 'x48', 'x49', 'y'],\n",
       "      dtype='object')"
      ]
     },
     "execution_count": 34,
     "metadata": {},
     "output_type": "execute_result"
    }
   ],
   "source": [
    "df.columns"
   ]
  },
  {
   "cell_type": "code",
   "execution_count": 35,
   "metadata": {},
   "outputs": [
    {
     "data": {
      "text/plain": [
       "Index(['x0', 'x1', 'x2', 'x3', 'x4', 'x5', 'x6', 'x7', 'x8', 'x9', 'x10',\n",
       "       'x11', 'x12', 'x13', 'x14', 'x15', 'x16', 'x17', 'x18', 'x19', 'x20',\n",
       "       'x21', 'x22', 'x23', 'region', 'x25', 'x26', 'x27', 'x28', 'month',\n",
       "       'day', 'x31', 'rate', 'x33', 'x34', 'x35', 'x36', 'PL', 'x38', 'x39',\n",
       "       'x40', 'x41', 'x42', 'x43', 'x44', 'x45', 'x46', 'x47', 'x48', 'x49',\n",
       "       'y'],\n",
       "      dtype='object')"
      ]
     },
     "execution_count": 35,
     "metadata": {},
     "output_type": "execute_result"
    }
   ],
   "source": [
    "df = df.rename(columns={'x24': 'region', 'x29': 'month','x30': 'day','x32': 'rate','x37': 'PL'})\n",
    "df.columns"
   ]
  },
  {
   "cell_type": "code",
   "execution_count": 36,
   "metadata": {},
   "outputs": [
    {
     "data": {
      "text/plain": [
       "Index(['x0', 'x1', 'x2', 'x3', 'x4', 'x5', 'x6', 'x7', 'x8', 'x9', 'x10',\n",
       "       'x11', 'x12', 'x13', 'x14', 'x15', 'x16', 'x17', 'x18', 'x19', 'x20',\n",
       "       'x21', 'x22', 'x23', 'region', 'x25', 'x26', 'x27', 'x28', 'month',\n",
       "       'day', 'x31', 'rate', 'x33', 'x34', 'x35', 'x36', 'PL', 'x38', 'x39',\n",
       "       'x40', 'x41', 'x42', 'x43', 'x44', 'x45', 'x46', 'x47', 'x48', 'x49',\n",
       "       'y'],\n",
       "      dtype='object')"
      ]
     },
     "execution_count": 36,
     "metadata": {},
     "output_type": "execute_result"
    }
   ],
   "source": [
    "df.columns"
   ]
  },
  {
   "cell_type": "code",
   "execution_count": 37,
   "metadata": {},
   "outputs": [
    {
     "name": "stdout",
     "output_type": "stream",
     "text": [
      "<class 'pandas.core.frame.DataFrame'>\n",
      "RangeIndex: 160000 entries, 0 to 159999\n",
      "Data columns (total 51 columns):\n",
      "x0        159974 non-null float64\n",
      "x1        159975 non-null float64\n",
      "x2        159962 non-null float64\n",
      "x3        159963 non-null float64\n",
      "x4        159974 non-null float64\n",
      "x5        159963 non-null float64\n",
      "x6        159974 non-null float64\n",
      "x7        159973 non-null float64\n",
      "x8        159979 non-null float64\n",
      "x9        159970 non-null float64\n",
      "x10       159957 non-null float64\n",
      "x11       159970 non-null float64\n",
      "x12       159964 non-null float64\n",
      "x13       159969 non-null float64\n",
      "x14       159966 non-null float64\n",
      "x15       159965 non-null float64\n",
      "x16       159974 non-null float64\n",
      "x17       159973 non-null float64\n",
      "x18       159960 non-null float64\n",
      "x19       159965 non-null float64\n",
      "x20       159962 non-null float64\n",
      "x21       159971 non-null float64\n",
      "x22       159973 non-null float64\n",
      "x23       159953 non-null float64\n",
      "region    159972 non-null object\n",
      "x25       159978 non-null float64\n",
      "x26       159964 non-null float64\n",
      "x27       159970 non-null float64\n",
      "x28       159965 non-null float64\n",
      "month     159970 non-null object\n",
      "day       159970 non-null object\n",
      "x31       159961 non-null float64\n",
      "rate      159969 non-null object\n",
      "x33       159959 non-null float64\n",
      "x34       159959 non-null float64\n",
      "x35       159970 non-null float64\n",
      "x36       159973 non-null float64\n",
      "PL        159977 non-null object\n",
      "x38       159969 non-null float64\n",
      "x39       159977 non-null float64\n",
      "x40       159964 non-null float64\n",
      "x41       159960 non-null float64\n",
      "x42       159974 non-null float64\n",
      "x43       159963 non-null float64\n",
      "x44       159960 non-null float64\n",
      "x45       159971 non-null float64\n",
      "x46       159969 non-null float64\n",
      "x47       159963 non-null float64\n",
      "x48       159968 non-null float64\n",
      "x49       159968 non-null float64\n",
      "y         160000 non-null int64\n",
      "dtypes: float64(45), int64(1), object(5)\n",
      "memory usage: 62.3+ MB\n"
     ]
    }
   ],
   "source": [
    "df = df.replace(to_replace='',value=np.nan)\n",
    "df.info()"
   ]
  },
  {
   "cell_type": "code",
   "execution_count": 38,
   "metadata": {},
   "outputs": [
    {
     "data": {
      "text/plain": [
       "x0        26\n",
       "x1        25\n",
       "x2        38\n",
       "x3        37\n",
       "x4        26\n",
       "x5        37\n",
       "x6        26\n",
       "x7        27\n",
       "x8        21\n",
       "x9        30\n",
       "x10       43\n",
       "x11       30\n",
       "x12       36\n",
       "x13       31\n",
       "x14       34\n",
       "x15       35\n",
       "x16       26\n",
       "x17       27\n",
       "x18       40\n",
       "x19       35\n",
       "x20       38\n",
       "x21       29\n",
       "x22       27\n",
       "x23       47\n",
       "region    28\n",
       "x25       22\n",
       "x26       36\n",
       "x27       30\n",
       "x28       35\n",
       "month     30\n",
       "day       30\n",
       "x31       39\n",
       "rate      31\n",
       "x33       41\n",
       "x34       41\n",
       "x35       30\n",
       "x36       27\n",
       "PL        23\n",
       "x38       31\n",
       "x39       23\n",
       "x40       36\n",
       "x41       40\n",
       "x42       26\n",
       "x43       37\n",
       "x44       40\n",
       "x45       29\n",
       "x46       31\n",
       "x47       37\n",
       "x48       32\n",
       "x49       32\n",
       "y          0\n",
       "dtype: int64"
      ]
     },
     "execution_count": 38,
     "metadata": {},
     "output_type": "execute_result"
    }
   ],
   "source": [
    "## Count of nan's in each column in the dataset\n",
    "count_nan = len(df) - df.count()\n",
    "count_nan"
   ]
  },
  {
   "cell_type": "code",
   "execution_count": 39,
   "metadata": {},
   "outputs": [],
   "source": [
    "df_na = df[pd.isnull(df).any(axis=1)]"
   ]
  },
  {
   "cell_type": "code",
   "execution_count": 40,
   "metadata": {},
   "outputs": [
    {
     "data": {
      "text/plain": [
       "count    1608.000000\n",
       "mean        0.404851\n",
       "std         0.491016\n",
       "min         0.000000\n",
       "25%         0.000000\n",
       "50%         0.000000\n",
       "75%         1.000000\n",
       "max         1.000000\n",
       "Name: y, dtype: float64"
      ]
     },
     "execution_count": 40,
     "metadata": {},
     "output_type": "execute_result"
    }
   ],
   "source": [
    "#df=df.dropna()\n",
    "#df.info()\n",
    "df_na['y'].describe() ### distro after secluding na's \n",
    "#df['y'].describe() ## distro before dropping \n",
    "\n",
    "## distro of y before and after dropping na rows is same , hence we prefer to drop the rows with na . "
   ]
  },
  {
   "cell_type": "code",
   "execution_count": 41,
   "metadata": {},
   "outputs": [
    {
     "data": {
      "image/png": "[encoded data removed]",
      "text/plain": [
       "<matplotlib.figure.Figure at 0x1a1b046b70>"
      ]
     },
     "metadata": {},
     "output_type": "display_data"
    }
   ],
   "source": [
    "df.y.plot.hist(stacked=True, bins=20,figsize=[6,4])\n",
    "plt.ylabel('y count')\n",
    "plt.xlabel('y class')\n",
    "plt.title('Output class distribution ALL data')\n",
    "plt.show()"
   ]
  },
  {
   "cell_type": "code",
   "execution_count": 42,
   "metadata": {},
   "outputs": [
    {
     "data": {
      "image/png": "[encoded data removed]",
      "text/plain": [
       "<matplotlib.figure.Figure at 0x1a1ee031d0>"
      ]
     },
     "metadata": {},
     "output_type": "display_data"
    }
   ],
   "source": [
    "df_na.y.plot.hist(stacked=True, bins=20, figsize=[6,4])\n",
    "plt.ylabel('y count')\n",
    "plt.xlabel('y class')\n",
    "plt.title('Output class distribution for NaN values')\n",
    "plt.show()"
   ]
  },
  {
   "cell_type": "code",
   "execution_count": 43,
   "metadata": {},
   "outputs": [
    {
     "name": "stdout",
     "output_type": "stream",
     "text": [
      "<class 'pandas.core.frame.DataFrame'>\n",
      "Int64Index: 158392 entries, 0 to 159999\n",
      "Data columns (total 51 columns):\n",
      "x0        158392 non-null float64\n",
      "x1        158392 non-null float64\n",
      "x2        158392 non-null float64\n",
      "x3        158392 non-null float64\n",
      "x4        158392 non-null float64\n",
      "x5        158392 non-null float64\n",
      "x6        158392 non-null float64\n",
      "x7        158392 non-null float64\n",
      "x8        158392 non-null float64\n",
      "x9        158392 non-null float64\n",
      "x10       158392 non-null float64\n",
      "x11       158392 non-null float64\n",
      "x12       158392 non-null float64\n",
      "x13       158392 non-null float64\n",
      "x14       158392 non-null float64\n",
      "x15       158392 non-null float64\n",
      "x16       158392 non-null float64\n",
      "x17       158392 non-null float64\n",
      "x18       158392 non-null float64\n",
      "x19       158392 non-null float64\n",
      "x20       158392 non-null float64\n",
      "x21       158392 non-null float64\n",
      "x22       158392 non-null float64\n",
      "x23       158392 non-null float64\n",
      "region    158392 non-null object\n",
      "x25       158392 non-null float64\n",
      "x26       158392 non-null float64\n",
      "x27       158392 non-null float64\n",
      "x28       158392 non-null float64\n",
      "month     158392 non-null object\n",
      "day       158392 non-null object\n",
      "x31       158392 non-null float64\n",
      "rate      158392 non-null object\n",
      "x33       158392 non-null float64\n",
      "x34       158392 non-null float64\n",
      "x35       158392 non-null float64\n",
      "x36       158392 non-null float64\n",
      "PL        158392 non-null object\n",
      "x38       158392 non-null float64\n",
      "x39       158392 non-null float64\n",
      "x40       158392 non-null float64\n",
      "x41       158392 non-null float64\n",
      "x42       158392 non-null float64\n",
      "x43       158392 non-null float64\n",
      "x44       158392 non-null float64\n",
      "x45       158392 non-null float64\n",
      "x46       158392 non-null float64\n",
      "x47       158392 non-null float64\n",
      "x48       158392 non-null float64\n",
      "x49       158392 non-null float64\n",
      "y         158392 non-null int64\n",
      "dtypes: float64(45), int64(1), object(5)\n",
      "memory usage: 62.8+ MB\n"
     ]
    }
   ],
   "source": [
    "df1 = df.dropna()\n",
    "df1.info()"
   ]
  },
  {
   "cell_type": "code",
   "execution_count": 44,
   "metadata": {},
   "outputs": [
    {
     "data": {
      "text/plain": [
       "0      0.0%\n",
       "1    -0.02%\n",
       "2    -0.01%\n",
       "3     0.01%\n",
       "4     0.01%\n",
       "Name: rate, dtype: object"
      ]
     },
     "execution_count": 44,
     "metadata": {},
     "output_type": "execute_result"
    }
   ],
   "source": [
    "df1['rate'].head()"
   ]
  },
  {
   "cell_type": "code",
   "execution_count": 45,
   "metadata": {},
   "outputs": [
    {
     "name": "stderr",
     "output_type": "stream",
     "text": [
      "/anaconda3/lib/python3.6/site-packages/ipykernel_launcher.py:1: SettingWithCopyWarning: \n",
      "A value is trying to be set on a copy of a slice from a DataFrame.\n",
      "Try using .loc[row_indexer,col_indexer] = value instead\n",
      "\n",
      "See the caveats in the documentation: http://pandas.pydata.org/pandas-docs/stable/indexing.html#indexing-view-versus-copy\n",
      "  \"\"\"Entry point for launching an IPython kernel.\n",
      "/anaconda3/lib/python3.6/site-packages/ipykernel_launcher.py:2: SettingWithCopyWarning: \n",
      "A value is trying to be set on a copy of a slice from a DataFrame.\n",
      "Try using .loc[row_indexer,col_indexer] = value instead\n",
      "\n",
      "See the caveats in the documentation: http://pandas.pydata.org/pandas-docs/stable/indexing.html#indexing-view-versus-copy\n",
      "  \n"
     ]
    },
    {
     "data": {
      "text/plain": [
       "0    0.00\n",
       "1   -0.02\n",
       "2   -0.01\n",
       "3    0.01\n",
       "4    0.01\n",
       "Name: rate, dtype: float64"
      ]
     },
     "execution_count": 45,
     "metadata": {},
     "output_type": "execute_result"
    }
   ],
   "source": [
    "df1['rate'] = df1['rate'].str.replace(\"%\", \"\")\n",
    "df1['rate'] = df1['rate'].astype(\"float\")\n",
    "df1['rate'].head()"
   ]
  },
  {
   "cell_type": "code",
   "execution_count": 46,
   "metadata": {},
   "outputs": [
    {
     "data": {
      "text/plain": [
       "0     $1313.96\n",
       "1     $1962.78\n",
       "2      $430.47\n",
       "3    $-2366.29\n",
       "4     $-620.66\n",
       "Name: PL, dtype: object"
      ]
     },
     "execution_count": 46,
     "metadata": {},
     "output_type": "execute_result"
    }
   ],
   "source": [
    "df1['PL'].head()"
   ]
  },
  {
   "cell_type": "code",
   "execution_count": 47,
   "metadata": {},
   "outputs": [
    {
     "name": "stderr",
     "output_type": "stream",
     "text": [
      "/anaconda3/lib/python3.6/site-packages/ipykernel_launcher.py:1: SettingWithCopyWarning: \n",
      "A value is trying to be set on a copy of a slice from a DataFrame.\n",
      "Try using .loc[row_indexer,col_indexer] = value instead\n",
      "\n",
      "See the caveats in the documentation: http://pandas.pydata.org/pandas-docs/stable/indexing.html#indexing-view-versus-copy\n",
      "  \"\"\"Entry point for launching an IPython kernel.\n",
      "/anaconda3/lib/python3.6/site-packages/ipykernel_launcher.py:2: SettingWithCopyWarning: \n",
      "A value is trying to be set on a copy of a slice from a DataFrame.\n",
      "Try using .loc[row_indexer,col_indexer] = value instead\n",
      "\n",
      "See the caveats in the documentation: http://pandas.pydata.org/pandas-docs/stable/indexing.html#indexing-view-versus-copy\n",
      "  \n"
     ]
    },
    {
     "data": {
      "text/plain": [
       "0    1313.96\n",
       "1    1962.78\n",
       "2     430.47\n",
       "3   -2366.29\n",
       "4    -620.66\n",
       "Name: PL, dtype: float64"
      ]
     },
     "execution_count": 47,
     "metadata": {},
     "output_type": "execute_result"
    }
   ],
   "source": [
    "df1['PL'] = df1['PL'].str.replace(\"$\", \"\")\n",
    "df1['PL'] = df1['PL'].astype(\"float\")\n",
    "df1['PL'].head()"
   ]
  },
  {
   "cell_type": "code",
   "execution_count": 48,
   "metadata": {},
   "outputs": [
    {
     "name": "stdout",
     "output_type": "stream",
     "text": [
      "<class 'pandas.core.frame.DataFrame'>\n",
      "Int64Index: 158392 entries, 0 to 159999\n",
      "Data columns (total 47 columns):\n",
      "x0      158392 non-null float64\n",
      "x1      158392 non-null float64\n",
      "x2      158392 non-null float64\n",
      "x3      158392 non-null float64\n",
      "x4      158392 non-null float64\n",
      "x5      158392 non-null float64\n",
      "x6      158392 non-null float64\n",
      "x7      158392 non-null float64\n",
      "x8      158392 non-null float64\n",
      "x9      158392 non-null float64\n",
      "x10     158392 non-null float64\n",
      "x11     158392 non-null float64\n",
      "x12     158392 non-null float64\n",
      "x13     158392 non-null float64\n",
      "x14     158392 non-null float64\n",
      "x15     158392 non-null float64\n",
      "x16     158392 non-null float64\n",
      "x17     158392 non-null float64\n",
      "x18     158392 non-null float64\n",
      "x19     158392 non-null float64\n",
      "x20     158392 non-null float64\n",
      "x21     158392 non-null float64\n",
      "x22     158392 non-null float64\n",
      "x23     158392 non-null float64\n",
      "x25     158392 non-null float64\n",
      "x26     158392 non-null float64\n",
      "x27     158392 non-null float64\n",
      "x28     158392 non-null float64\n",
      "x31     158392 non-null float64\n",
      "rate    158392 non-null float64\n",
      "x33     158392 non-null float64\n",
      "x34     158392 non-null float64\n",
      "x35     158392 non-null float64\n",
      "x36     158392 non-null float64\n",
      "PL      158392 non-null float64\n",
      "x38     158392 non-null float64\n",
      "x39     158392 non-null float64\n",
      "x40     158392 non-null float64\n",
      "x41     158392 non-null float64\n",
      "x42     158392 non-null float64\n",
      "x43     158392 non-null float64\n",
      "x44     158392 non-null float64\n",
      "x45     158392 non-null float64\n",
      "x46     158392 non-null float64\n",
      "x47     158392 non-null float64\n",
      "x48     158392 non-null float64\n",
      "x49     158392 non-null float64\n",
      "dtypes: float64(47)\n",
      "memory usage: 58.0 MB\n"
     ]
    }
   ],
   "source": [
    "df_float = df1.loc[:, df1.dtypes == 'float']\n",
    "df_float.info()"
   ]
  },
  {
   "cell_type": "code",
   "execution_count": 49,
   "metadata": {},
   "outputs": [
    {
     "data": {
      "image/png": "[encoded data removed]",
      "text/plain": [
       "<matplotlib.figure.Figure at 0x1a182770b8>"
      ]
     },
     "metadata": {},
     "output_type": "display_data"
    }
   ],
   "source": [
    "df_norm = (df_float-df_float.min())/(df_float.max()-df_float.min())\n",
    "df_norm.boxplot(figsize=[18,8])\n",
    "plt.show()"
   ]
  },
  {
   "cell_type": "code",
   "execution_count": 57,
   "metadata": {},
   "outputs": [],
   "source": [
    "Xhist = ['region_america',\n",
    "       'region_asia', 'region_euorpe', 'month_Apr', 'month_Aug', 'month_Dev',\n",
    "       'month_Feb', 'month_January', 'month_July', 'month_Jun', 'month_Mar',\n",
    "       'month_May', 'month_Nov', 'month_Oct', 'month_sept.', 'day_friday',\n",
    "       'day_monday', 'day_thurday', 'day_tuesday', 'day_wednesday']"
   ]
  },
  {
   "cell_type": "code",
   "execution_count": 58,
   "metadata": {},
   "outputs": [
    {
     "data": {
      "image/png": "[encoded data removed]",
      "text/plain": [
       "<matplotlib.figure.Figure at 0x1a1da417f0>"
      ]
     },
     "metadata": {},
     "output_type": "display_data"
    }
   ],
   "source": [
    "def draw_histograms(df, variables, n_rows, n_cols):\n",
    "    fig=plt.figure()\n",
    "    for i, var_name in enumerate(variables):\n",
    "        ax=fig.add_subplot(n_rows,n_cols,i+1)\n",
    "        df[var_name].hist(bins=10,ax=ax)\n",
    "        ax.set_title(var_name+\" Distribution\")\n",
    "    fig.tight_layout()  # Improves appearance a bit.\n",
    "    plt.show()\n",
    "\n",
    "draw_histograms(df_final, Xhist, 5, 4)"
   ]
  },
  {
   "cell_type": "code",
   "execution_count": 50,
   "metadata": {},
   "outputs": [
    {
     "name": "stdout",
     "output_type": "stream",
     "text": [
      "<class 'pandas.core.frame.DataFrame'>\n",
      "Int64Index: 158392 entries, 0 to 159999\n",
      "Data columns (total 20 columns):\n",
      "region_america    158392 non-null uint8\n",
      "region_asia       158392 non-null uint8\n",
      "region_euorpe     158392 non-null uint8\n",
      "month_Apr         158392 non-null uint8\n",
      "month_Aug         158392 non-null uint8\n",
      "month_Dev         158392 non-null uint8\n",
      "month_Feb         158392 non-null uint8\n",
      "month_January     158392 non-null uint8\n",
      "month_July        158392 non-null uint8\n",
      "month_Jun         158392 non-null uint8\n",
      "month_Mar         158392 non-null uint8\n",
      "month_May         158392 non-null uint8\n",
      "month_Nov         158392 non-null uint8\n",
      "month_Oct         158392 non-null uint8\n",
      "month_sept.       158392 non-null uint8\n",
      "day_friday        158392 non-null uint8\n",
      "day_monday        158392 non-null uint8\n",
      "day_thurday       158392 non-null uint8\n",
      "day_tuesday       158392 non-null uint8\n",
      "day_wednesday     158392 non-null uint8\n",
      "dtypes: uint8(20)\n",
      "memory usage: 4.2 MB\n"
     ]
    }
   ],
   "source": [
    "dummyCols = pd.get_dummies(df1.loc[:, df1.dtypes == 'object'])\n",
    "dummyCols.info()"
   ]
  },
  {
   "cell_type": "code",
   "execution_count": 66,
   "metadata": {},
   "outputs": [
    {
     "name": "stdout",
     "output_type": "stream",
     "text": [
      "<class 'pandas.core.frame.DataFrame'>\n",
      "Int64Index: 158392 entries, 0 to 159999\n",
      "Data columns (total 68 columns):\n",
      "x0                158392 non-null float64\n",
      "x1                158392 non-null float64\n",
      "x2                158392 non-null float64\n",
      "x3                158392 non-null float64\n",
      "x4                158392 non-null float64\n",
      "x5                158392 non-null float64\n",
      "x6                158392 non-null float64\n",
      "x7                158392 non-null float64\n",
      "x8                158392 non-null float64\n",
      "x9                158392 non-null float64\n",
      "x10               158392 non-null float64\n",
      "x11               158392 non-null float64\n",
      "x12               158392 non-null float64\n",
      "x13               158392 non-null float64\n",
      "x14               158392 non-null float64\n",
      "x15               158392 non-null float64\n",
      "x16               158392 non-null float64\n",
      "x17               158392 non-null float64\n",
      "x18               158392 non-null float64\n",
      "x19               158392 non-null float64\n",
      "x20               158392 non-null float64\n",
      "x21               158392 non-null float64\n",
      "x22               158392 non-null float64\n",
      "x23               158392 non-null float64\n",
      "x25               158392 non-null float64\n",
      "x26               158392 non-null float64\n",
      "x27               158392 non-null float64\n",
      "x28               158392 non-null float64\n",
      "x31               158392 non-null float64\n",
      "rate              158392 non-null float64\n",
      "x33               158392 non-null float64\n",
      "x34               158392 non-null float64\n",
      "x35               158392 non-null float64\n",
      "x36               158392 non-null float64\n",
      "PL                158392 non-null float64\n",
      "x38               158392 non-null float64\n",
      "x39               158392 non-null float64\n",
      "x40               158392 non-null float64\n",
      "x41               158392 non-null float64\n",
      "x42               158392 non-null float64\n",
      "x43               158392 non-null float64\n",
      "x44               158392 non-null float64\n",
      "x45               158392 non-null float64\n",
      "x46               158392 non-null float64\n",
      "x47               158392 non-null float64\n",
      "x48               158392 non-null float64\n",
      "x49               158392 non-null float64\n",
      "region_america    158392 non-null uint8\n",
      "region_asia       158392 non-null uint8\n",
      "region_euorpe     158392 non-null uint8\n",
      "month_Apr         158392 non-null uint8\n",
      "month_Aug         158392 non-null uint8\n",
      "month_Dev         158392 non-null uint8\n",
      "month_Feb         158392 non-null uint8\n",
      "month_January     158392 non-null uint8\n",
      "month_July        158392 non-null uint8\n",
      "month_Jun         158392 non-null uint8\n",
      "month_Mar         158392 non-null uint8\n",
      "month_May         158392 non-null uint8\n",
      "month_Nov         158392 non-null uint8\n",
      "month_Oct         158392 non-null uint8\n",
      "month_sept.       158392 non-null uint8\n",
      "day_friday        158392 non-null uint8\n",
      "day_monday        158392 non-null uint8\n",
      "day_thurday       158392 non-null uint8\n",
      "day_tuesday       158392 non-null uint8\n",
      "day_wednesday     158392 non-null uint8\n",
      "y                 158392 non-null int64\n",
      "dtypes: float64(47), int64(1), uint8(20)\n",
      "memory usage: 67.2 MB\n"
     ]
    }
   ],
   "source": [
    "df_final = pd.concat([df_norm, dummyCols, df1['y']], axis=1)\n",
    "#df_final.drop(['day', 'region', 'month'], axis=1, inplace=True)\n",
    "df_final.info()"
   ]
  },
  {
   "cell_type": "code",
   "execution_count": 69,
   "metadata": {},
   "outputs": [
    {
     "data": {
      "text/html": [
       "<div>\n",
       "<style scoped>\n",
       "    .dataframe tbody tr th:only-of-type {\n",
       "        vertical-align: middle;\n",
       "    }\n",
       "\n",
       "    .dataframe tbody tr th {\n",
       "        vertical-align: top;\n",
       "    }\n",
       "\n",
       "    .dataframe thead th {\n",
       "        text-align: right;\n",
       "    }\n",
       "</style>\n",
       "<table border=\"1\" class=\"dataframe\">\n",
       "  <thead>\n",
       "    <tr style=\"text-align: right;\">\n",
       "      <th></th>\n",
       "      <th>y</th>\n",
       "    </tr>\n",
       "  </thead>\n",
       "  <tbody>\n",
       "    <tr>\n",
       "      <th>0</th>\n",
       "      <td>0</td>\n",
       "    </tr>\n",
       "    <tr>\n",
       "      <th>1</th>\n",
       "      <td>0</td>\n",
       "    </tr>\n",
       "    <tr>\n",
       "      <th>2</th>\n",
       "      <td>0</td>\n",
       "    </tr>\n",
       "    <tr>\n",
       "      <th>3</th>\n",
       "      <td>0</td>\n",
       "    </tr>\n",
       "    <tr>\n",
       "      <th>4</th>\n",
       "      <td>1</td>\n",
       "    </tr>\n",
       "  </tbody>\n",
       "</table>\n",
       "</div>"
      ],
      "text/plain": [
       "   y\n",
       "0  0\n",
       "1  0\n",
       "2  0\n",
       "3  0\n",
       "4  1"
      ]
     },
     "execution_count": 69,
     "metadata": {},
     "output_type": "execute_result"
    }
   ],
   "source": [
    "Y = df_final[['y']]\n",
    "Y.shape\n",
    "Y.head()"
   ]
  },
  {
   "cell_type": "code",
   "execution_count": 52,
   "metadata": {},
   "outputs": [
    {
     "data": {
      "text/plain": [
       "(158392, 67)"
      ]
     },
     "execution_count": 52,
     "metadata": {},
     "output_type": "execute_result"
    }
   ],
   "source": [
    "X = df_final.drop(['y'],axis=1)\n",
    "X.shape"
   ]
  },
  {
   "cell_type": "code",
   "execution_count": 70,
   "metadata": {},
   "outputs": [
    {
     "data": {
      "text/html": [
       "<div>\n",
       "<style scoped>\n",
       "    .dataframe tbody tr th:only-of-type {\n",
       "        vertical-align: middle;\n",
       "    }\n",
       "\n",
       "    .dataframe tbody tr th {\n",
       "        vertical-align: top;\n",
       "    }\n",
       "\n",
       "    .dataframe thead th {\n",
       "        text-align: right;\n",
       "    }\n",
       "</style>\n",
       "<table border=\"1\" class=\"dataframe\">\n",
       "  <thead>\n",
       "    <tr style=\"text-align: right;\">\n",
       "      <th></th>\n",
       "      <th>x0</th>\n",
       "      <th>x1</th>\n",
       "      <th>x3</th>\n",
       "      <th>x4</th>\n",
       "      <th>x5</th>\n",
       "      <th>x6</th>\n",
       "      <th>x7</th>\n",
       "      <th>x8</th>\n",
       "      <th>x9</th>\n",
       "      <th>x10</th>\n",
       "      <th>...</th>\n",
       "      <th>month_Mar</th>\n",
       "      <th>month_May</th>\n",
       "      <th>month_Nov</th>\n",
       "      <th>month_Oct</th>\n",
       "      <th>month_sept.</th>\n",
       "      <th>day_friday</th>\n",
       "      <th>day_monday</th>\n",
       "      <th>day_thurday</th>\n",
       "      <th>day_tuesday</th>\n",
       "      <th>day_wednesday</th>\n",
       "    </tr>\n",
       "  </thead>\n",
       "  <tbody>\n",
       "    <tr>\n",
       "      <th>0</th>\n",
       "      <td>0.446557</td>\n",
       "      <td>0.411243</td>\n",
       "      <td>0.499468</td>\n",
       "      <td>0.487384</td>\n",
       "      <td>0.499151</td>\n",
       "      <td>0.520704</td>\n",
       "      <td>0.504198</td>\n",
       "      <td>0.477586</td>\n",
       "      <td>0.429486</td>\n",
       "      <td>0.572294</td>\n",
       "      <td>...</td>\n",
       "      <td>0</td>\n",
       "      <td>0</td>\n",
       "      <td>0</td>\n",
       "      <td>0</td>\n",
       "      <td>0</td>\n",
       "      <td>0</td>\n",
       "      <td>0</td>\n",
       "      <td>0</td>\n",
       "      <td>1</td>\n",
       "      <td>0</td>\n",
       "    </tr>\n",
       "    <tr>\n",
       "      <th>1</th>\n",
       "      <td>0.451776</td>\n",
       "      <td>0.473453</td>\n",
       "      <td>0.522423</td>\n",
       "      <td>0.637743</td>\n",
       "      <td>0.452568</td>\n",
       "      <td>0.709567</td>\n",
       "      <td>0.528587</td>\n",
       "      <td>0.502828</td>\n",
       "      <td>0.511409</td>\n",
       "      <td>0.331273</td>\n",
       "      <td>...</td>\n",
       "      <td>0</td>\n",
       "      <td>0</td>\n",
       "      <td>0</td>\n",
       "      <td>0</td>\n",
       "      <td>0</td>\n",
       "      <td>0</td>\n",
       "      <td>0</td>\n",
       "      <td>0</td>\n",
       "      <td>0</td>\n",
       "      <td>1</td>\n",
       "    </tr>\n",
       "    <tr>\n",
       "      <th>2</th>\n",
       "      <td>0.397975</td>\n",
       "      <td>0.457897</td>\n",
       "      <td>0.555878</td>\n",
       "      <td>0.423334</td>\n",
       "      <td>0.324505</td>\n",
       "      <td>0.582770</td>\n",
       "      <td>0.582377</td>\n",
       "      <td>0.560548</td>\n",
       "      <td>0.457882</td>\n",
       "      <td>0.510143</td>\n",
       "      <td>...</td>\n",
       "      <td>0</td>\n",
       "      <td>0</td>\n",
       "      <td>0</td>\n",
       "      <td>0</td>\n",
       "      <td>0</td>\n",
       "      <td>0</td>\n",
       "      <td>0</td>\n",
       "      <td>0</td>\n",
       "      <td>0</td>\n",
       "      <td>1</td>\n",
       "    </tr>\n",
       "    <tr>\n",
       "      <th>3</th>\n",
       "      <td>0.421809</td>\n",
       "      <td>0.577796</td>\n",
       "      <td>0.515346</td>\n",
       "      <td>0.639187</td>\n",
       "      <td>0.520565</td>\n",
       "      <td>0.286681</td>\n",
       "      <td>0.491727</td>\n",
       "      <td>0.486755</td>\n",
       "      <td>0.404863</td>\n",
       "      <td>0.462025</td>\n",
       "      <td>...</td>\n",
       "      <td>0</td>\n",
       "      <td>0</td>\n",
       "      <td>0</td>\n",
       "      <td>0</td>\n",
       "      <td>0</td>\n",
       "      <td>0</td>\n",
       "      <td>0</td>\n",
       "      <td>0</td>\n",
       "      <td>0</td>\n",
       "      <td>1</td>\n",
       "    </tr>\n",
       "    <tr>\n",
       "      <th>4</th>\n",
       "      <td>0.413112</td>\n",
       "      <td>0.489890</td>\n",
       "      <td>0.488404</td>\n",
       "      <td>0.573806</td>\n",
       "      <td>0.478661</td>\n",
       "      <td>0.390773</td>\n",
       "      <td>0.632192</td>\n",
       "      <td>0.506780</td>\n",
       "      <td>0.427605</td>\n",
       "      <td>0.578759</td>\n",
       "      <td>...</td>\n",
       "      <td>0</td>\n",
       "      <td>0</td>\n",
       "      <td>0</td>\n",
       "      <td>0</td>\n",
       "      <td>0</td>\n",
       "      <td>0</td>\n",
       "      <td>0</td>\n",
       "      <td>0</td>\n",
       "      <td>1</td>\n",
       "      <td>0</td>\n",
       "    </tr>\n",
       "  </tbody>\n",
       "</table>\n",
       "<p>5 rows × 65 columns</p>\n",
       "</div>"
      ],
      "text/plain": [
       "         x0        x1        x3        x4        x5        x6        x7  \\\n",
       "0  0.446557  0.411243  0.499468  0.487384  0.499151  0.520704  0.504198   \n",
       "1  0.451776  0.473453  0.522423  0.637743  0.452568  0.709567  0.528587   \n",
       "2  0.397975  0.457897  0.555878  0.423334  0.324505  0.582770  0.582377   \n",
       "3  0.421809  0.577796  0.515346  0.639187  0.520565  0.286681  0.491727   \n",
       "4  0.413112  0.489890  0.488404  0.573806  0.478661  0.390773  0.632192   \n",
       "\n",
       "         x8        x9       x10      ...        month_Mar  month_May  \\\n",
       "0  0.477586  0.429486  0.572294      ...                0          0   \n",
       "1  0.502828  0.511409  0.331273      ...                0          0   \n",
       "2  0.560548  0.457882  0.510143      ...                0          0   \n",
       "3  0.486755  0.404863  0.462025      ...                0          0   \n",
       "4  0.506780  0.427605  0.578759      ...                0          0   \n",
       "\n",
       "   month_Nov  month_Oct  month_sept.  day_friday  day_monday  day_thurday  \\\n",
       "0          0          0            0           0           0            0   \n",
       "1          0          0            0           0           0            0   \n",
       "2          0          0            0           0           0            0   \n",
       "3          0          0            0           0           0            0   \n",
       "4          0          0            0           0           0            0   \n",
       "\n",
       "   day_tuesday  day_wednesday  \n",
       "0            1              0  \n",
       "1            0              1  \n",
       "2            0              1  \n",
       "3            0              1  \n",
       "4            1              0  \n",
       "\n",
       "[5 rows x 65 columns]"
      ]
     },
     "execution_count": 70,
     "metadata": {},
     "output_type": "execute_result"
    }
   ],
   "source": [
    "X.head()"
   ]
  },
  {
   "cell_type": "code",
   "execution_count": 54,
   "metadata": {},
   "outputs": [
    {
     "name": "stdout",
     "output_type": "stream",
     "text": [
      "The Feature list is:  Index(['x0', 'x1', 'x2', 'x3', 'x4', 'x5', 'x6', 'x7', 'x8', 'x9', 'x10',\n",
      "       'x11', 'x12', 'x13', 'x14', 'x15', 'x16', 'x17', 'x18', 'x19', 'x20',\n",
      "       'x21', 'x22', 'x23', 'x25', 'x26', 'x27', 'x28', 'x31', 'rate', 'x33',\n",
      "       'x34', 'x35', 'x36', 'PL', 'x38', 'x39', 'x40', 'x41', 'x42', 'x43',\n",
      "       'x44', 'x45', 'x46', 'x47', 'x48', 'x49', 'region_america',\n",
      "       'region_asia', 'region_euorpe', 'month_Apr', 'month_Aug', 'month_Dev',\n",
      "       'month_Feb', 'month_January', 'month_July', 'month_Jun', 'month_Mar',\n",
      "       'month_May', 'month_Nov', 'month_Oct', 'month_sept.', 'day_friday',\n",
      "       'day_monday', 'day_thurday', 'day_tuesday', 'day_wednesday', 'y'],\n",
      "      dtype='object')\n"
     ]
    }
   ],
   "source": [
    "print(\"The Feature list is: \", df_final.columns)"
   ]
  },
  {
   "cell_type": "code",
   "execution_count": 55,
   "metadata": {},
   "outputs": [
    {
     "data": {
      "image/png": "[encoded data removed]",
      "text/plain": [
       "<matplotlib.figure.Figure at 0x1a17e99cf8>"
      ]
     },
     "metadata": {},
     "output_type": "display_data"
    }
   ],
   "source": [
    "## Heat Map\n",
    "import seaborn as sns\n",
    "#sns.palplot(sns.color_palette(\"husl\", 8))\n",
    "sns.set(rc={'figure.figsize':(16,12)})\n",
    "\n",
    "corr = X.corr()\n",
    "sns.heatmap(corr, annot=False, cmap=\"YlGnBu\",\n",
    "            xticklabels=corr.columns.values)\n",
    "plt.show()"
   ]
  },
  {
   "cell_type": "code",
   "execution_count": 56,
   "metadata": {},
   "outputs": [
    {
     "name": "stdout",
     "output_type": "stream",
     "text": [
      "<class 'pandas.core.frame.DataFrame'>\n",
      "Int64Index: 158392 entries, 0 to 159999\n",
      "Data columns (total 65 columns):\n",
      "x0                158392 non-null float64\n",
      "x1                158392 non-null float64\n",
      "x3                158392 non-null float64\n",
      "x4                158392 non-null float64\n",
      "x5                158392 non-null float64\n",
      "x6                158392 non-null float64\n",
      "x7                158392 non-null float64\n",
      "x8                158392 non-null float64\n",
      "x9                158392 non-null float64\n",
      "x10               158392 non-null float64\n",
      "x11               158392 non-null float64\n",
      "x12               158392 non-null float64\n",
      "x13               158392 non-null float64\n",
      "x14               158392 non-null float64\n",
      "x15               158392 non-null float64\n",
      "x16               158392 non-null float64\n",
      "x17               158392 non-null float64\n",
      "x18               158392 non-null float64\n",
      "x19               158392 non-null float64\n",
      "x20               158392 non-null float64\n",
      "x21               158392 non-null float64\n",
      "x22               158392 non-null float64\n",
      "x23               158392 non-null float64\n",
      "x25               158392 non-null float64\n",
      "x26               158392 non-null float64\n",
      "x27               158392 non-null float64\n",
      "x28               158392 non-null float64\n",
      "x31               158392 non-null float64\n",
      "rate              158392 non-null float64\n",
      "x33               158392 non-null float64\n",
      "x34               158392 non-null float64\n",
      "x35               158392 non-null float64\n",
      "x36               158392 non-null float64\n",
      "PL                158392 non-null float64\n",
      "x38               158392 non-null float64\n",
      "x39               158392 non-null float64\n",
      "x40               158392 non-null float64\n",
      "x42               158392 non-null float64\n",
      "x43               158392 non-null float64\n",
      "x44               158392 non-null float64\n",
      "x45               158392 non-null float64\n",
      "x46               158392 non-null float64\n",
      "x47               158392 non-null float64\n",
      "x48               158392 non-null float64\n",
      "x49               158392 non-null float64\n",
      "region_america    158392 non-null uint8\n",
      "region_asia       158392 non-null uint8\n",
      "region_euorpe     158392 non-null uint8\n",
      "month_Apr         158392 non-null uint8\n",
      "month_Aug         158392 non-null uint8\n",
      "month_Dev         158392 non-null uint8\n",
      "month_Feb         158392 non-null uint8\n",
      "month_January     158392 non-null uint8\n",
      "month_July        158392 non-null uint8\n",
      "month_Jun         158392 non-null uint8\n",
      "month_Mar         158392 non-null uint8\n",
      "month_May         158392 non-null uint8\n",
      "month_Nov         158392 non-null uint8\n",
      "month_Oct         158392 non-null uint8\n",
      "month_sept.       158392 non-null uint8\n",
      "day_friday        158392 non-null uint8\n",
      "day_monday        158392 non-null uint8\n",
      "day_thurday       158392 non-null uint8\n",
      "day_tuesday       158392 non-null uint8\n",
      "day_wednesday     158392 non-null uint8\n",
      "dtypes: float64(45), uint8(20)\n",
      "memory usage: 58.6 MB\n"
     ]
    }
   ],
   "source": [
    "# x2 is highly correlated with x6 and PL; x39 and X41 are highly correlated; remove them \n",
    "X = X.drop(['x2','x41'], axis=1)\n",
    "X.info()"
   ]
  },
  {
   "cell_type": "markdown",
   "metadata": {},
   "source": [
    "##### Do the following on full data before splitting train and test. \n",
    "1. Clean data , outliers , any replace variables with correct ones / missing data \n",
    "2. data exploration - continuous and discrete feautures\n",
    "3. Summary of data - min max etc \n",
    "4. EDA viz based on region , day - on categorical data \n",
    "5. correlation of variables w.r.t y(output)\n",
    "6. One hot encoding \n",
    "\n",
    "##### Then do a train ,validation set split using cross fold . \n",
    "###### ensemble of RF , NB , DT , LR,  XGB \n"
   ]
  },
  {
   "cell_type": "code",
   "execution_count": null,
   "metadata": {},
   "outputs": [],
   "source": [
    "#df_final.to_csv('df_final.csv')"
   ]
  },
  {
   "cell_type": "code",
   "execution_count": null,
   "metadata": {},
   "outputs": [],
   "source": [
    "#data=pd.read_csv(\"df_final.csv\",nrows=128000,header=0)\n",
    "#test=pd.read_csv(\"df_final.csv\",nrows=32000,skiprows=128000,header=0)\n",
    "#data.drop(data.columns[0], axis=1,inplace=True)\n",
    "#test.drop(test.columns[0], axis=1,inplace=True)"
   ]
  },
  {
   "cell_type": "markdown",
   "metadata": {},
   "source": [
    "nit1=pd.read_csv(\"df_final_orig.csv\",nrows=128000,header=0)\n"
   ]
  },
  {
   "cell_type": "markdown",
   "metadata": {},
   "source": [
    "nit = nit1\n",
    "nit.drop(nit.columns[0], axis=1,inplace=True)\n",
    "nit_tgt=nit['y']\n",
    "nit_data = nit\n",
    "nit_data.drop(columns= ['y'])"
   ]
  },
  {
   "cell_type": "code",
   "execution_count": null,
   "metadata": {},
   "outputs": [],
   "source": [
    "#data.shape\n",
    "#test.shape"
   ]
  },
  {
   "cell_type": "code",
   "execution_count": null,
   "metadata": {},
   "outputs": [],
   "source": [
    "#data.info()"
   ]
  },
  {
   "cell_type": "markdown",
   "metadata": {},
   "source": [
    "# Add lines of code to drop y in train data and use y in target data "
   ]
  },
  {
   "cell_type": "code",
   "execution_count": 80,
   "metadata": {},
   "outputs": [
    {
     "data": {
      "text/plain": [
       "158392"
      ]
     },
     "execution_count": 80,
     "metadata": {},
     "output_type": "execute_result"
    }
   ],
   "source": [
    "len(np.zeros(X.shape[0]))"
   ]
  },
  {
   "cell_type": "code",
   "execution_count": 76,
   "metadata": {},
   "outputs": [
    {
     "data": {
      "text/html": [
       "<div>\n",
       "<style scoped>\n",
       "    .dataframe tbody tr th:only-of-type {\n",
       "        vertical-align: middle;\n",
       "    }\n",
       "\n",
       "    .dataframe tbody tr th {\n",
       "        vertical-align: top;\n",
       "    }\n",
       "\n",
       "    .dataframe thead th {\n",
       "        text-align: right;\n",
       "    }\n",
       "</style>\n",
       "<table border=\"1\" class=\"dataframe\">\n",
       "  <thead>\n",
       "    <tr style=\"text-align: right;\">\n",
       "      <th></th>\n",
       "      <th>x0</th>\n",
       "      <th>x1</th>\n",
       "      <th>x3</th>\n",
       "      <th>x4</th>\n",
       "      <th>x5</th>\n",
       "      <th>x6</th>\n",
       "      <th>x7</th>\n",
       "      <th>x8</th>\n",
       "      <th>x9</th>\n",
       "      <th>x10</th>\n",
       "      <th>...</th>\n",
       "      <th>month_Mar</th>\n",
       "      <th>month_May</th>\n",
       "      <th>month_Nov</th>\n",
       "      <th>month_Oct</th>\n",
       "      <th>month_sept.</th>\n",
       "      <th>day_friday</th>\n",
       "      <th>day_monday</th>\n",
       "      <th>day_thurday</th>\n",
       "      <th>day_tuesday</th>\n",
       "      <th>day_wednesday</th>\n",
       "    </tr>\n",
       "  </thead>\n",
       "  <tbody>\n",
       "  </tbody>\n",
       "</table>\n",
       "<p>0 rows × 65 columns</p>\n",
       "</div>"
      ],
      "text/plain": [
       "Empty DataFrame\n",
       "Columns: [x0, x1, x3, x4, x5, x6, x7, x8, x9, x10, x11, x12, x13, x14, x15, x16, x17, x18, x19, x20, x21, x22, x23, x25, x26, x27, x28, x31, rate, x33, x34, x35, x36, PL, x38, x39, x40, x42, x43, x44, x45, x46, x47, x48, x49, region_america, region_asia, region_euorpe, month_Apr, month_Aug, month_Dev, month_Feb, month_January, month_July, month_Jun, month_Mar, month_May, month_Nov, month_Oct, month_sept., day_friday, day_monday, day_thurday, day_tuesday, day_wednesday]\n",
       "Index: []\n",
       "\n",
       "[0 rows x 65 columns]"
      ]
     },
     "execution_count": 76,
     "metadata": {},
     "output_type": "execute_result"
    }
   ],
   "source": [
    "X[pd.isnull(X).any(axis=1)]"
   ]
  },
  {
   "cell_type": "code",
   "execution_count": 84,
   "metadata": {},
   "outputs": [
    {
     "data": {
      "text/plain": [
       "Index(['x0', 'x1', 'x3', 'x4', 'x5', 'x6', 'x7', 'x8', 'x9', 'x10', 'x11',\n",
       "       'x12', 'x13', 'x14', 'x15', 'x16', 'x17', 'x18', 'x19', 'x20', 'x21',\n",
       "       'x22', 'x23', 'x25', 'x26', 'x27', 'x28', 'x31', 'rate', 'x33', 'x34',\n",
       "       'x35', 'x36', 'PL', 'x38', 'x39', 'x40', 'x42', 'x43', 'x44', 'x45',\n",
       "       'x46', 'x47', 'x48', 'x49', 'region_america', 'region_asia',\n",
       "       'region_euorpe', 'month_Apr', 'month_Aug', 'month_Dev', 'month_Feb',\n",
       "       'month_January', 'month_July', 'month_Jun', 'month_Mar', 'month_May',\n",
       "       'month_Nov', 'month_Oct', 'month_sept.', 'day_friday', 'day_monday',\n",
       "       'day_thurday', 'day_tuesday', 'day_wednesday'],\n",
       "      dtype='object')"
      ]
     },
     "execution_count": 84,
     "metadata": {},
     "output_type": "execute_result"
    }
   ],
   "source": [
    "X.columns"
   ]
  },
  {
   "cell_type": "code",
   "execution_count": 104,
   "metadata": {},
   "outputs": [],
   "source": [
    "temp = X[['region_america', 'region_asia','region_euorpe', 'month_Apr', 'month_Aug', 'month_Dev', 'month_Feb','month_January', 'month_July', 'month_Jun', 'month_Mar', 'month_May','month_Nov', 'month_Oct', 'month_sept.', 'day_friday', 'day_monday','day_thurday', 'day_tuesday', 'day_wednesday']].astype(int, inplace='True')\n"
   ]
  },
  {
   "cell_type": "code",
   "execution_count": 105,
   "metadata": {},
   "outputs": [
    {
     "name": "stdout",
     "output_type": "stream",
     "text": [
      "<class 'pandas.core.frame.DataFrame'>\n",
      "Int64Index: 158392 entries, 0 to 159999\n",
      "Data columns (total 20 columns):\n",
      "region_america    158392 non-null int64\n",
      "region_asia       158392 non-null int64\n",
      "region_euorpe     158392 non-null int64\n",
      "month_Apr         158392 non-null int64\n",
      "month_Aug         158392 non-null int64\n",
      "month_Dev         158392 non-null int64\n",
      "month_Feb         158392 non-null int64\n",
      "month_January     158392 non-null int64\n",
      "month_July        158392 non-null int64\n",
      "month_Jun         158392 non-null int64\n",
      "month_Mar         158392 non-null int64\n",
      "month_May         158392 non-null int64\n",
      "month_Nov         158392 non-null int64\n",
      "month_Oct         158392 non-null int64\n",
      "month_sept.       158392 non-null int64\n",
      "day_friday        158392 non-null int64\n",
      "day_monday        158392 non-null int64\n",
      "day_thurday       158392 non-null int64\n",
      "day_tuesday       158392 non-null int64\n",
      "day_wednesday     158392 non-null int64\n",
      "dtypes: int64(20)\n",
      "memory usage: 30.4 MB\n"
     ]
    }
   ],
   "source": [
    "temp.info()"
   ]
  },
  {
   "cell_type": "code",
   "execution_count": 108,
   "metadata": {},
   "outputs": [],
   "source": [
    "X[['region_america', 'region_asia','region_euorpe', 'month_Apr', 'month_Aug', 'month_Dev', 'month_Feb','month_January', 'month_July', 'month_Jun', 'month_Mar', 'month_May','month_Nov', 'month_Oct', 'month_sept.', 'day_friday', 'day_monday','day_thurday', 'day_tuesday', 'day_wednesday']]= temp"
   ]
  },
  {
   "cell_type": "code",
   "execution_count": 109,
   "metadata": {},
   "outputs": [
    {
     "name": "stdout",
     "output_type": "stream",
     "text": [
      "<class 'pandas.core.frame.DataFrame'>\n",
      "Int64Index: 158392 entries, 0 to 159999\n",
      "Data columns (total 65 columns):\n",
      "x0                158392 non-null float64\n",
      "x1                158392 non-null float64\n",
      "x3                158392 non-null float64\n",
      "x4                158392 non-null float64\n",
      "x5                158392 non-null float64\n",
      "x6                158392 non-null float64\n",
      "x7                158392 non-null float64\n",
      "x8                158392 non-null float64\n",
      "x9                158392 non-null float64\n",
      "x10               158392 non-null float64\n",
      "x11               158392 non-null float64\n",
      "x12               158392 non-null float64\n",
      "x13               158392 non-null float64\n",
      "x14               158392 non-null float64\n",
      "x15               158392 non-null float64\n",
      "x16               158392 non-null float64\n",
      "x17               158392 non-null float64\n",
      "x18               158392 non-null float64\n",
      "x19               158392 non-null float64\n",
      "x20               158392 non-null float64\n",
      "x21               158392 non-null float64\n",
      "x22               158392 non-null float64\n",
      "x23               158392 non-null float64\n",
      "x25               158392 non-null float64\n",
      "x26               158392 non-null float64\n",
      "x27               158392 non-null float64\n",
      "x28               158392 non-null float64\n",
      "x31               158392 non-null float64\n",
      "rate              158392 non-null float64\n",
      "x33               158392 non-null float64\n",
      "x34               158392 non-null float64\n",
      "x35               158392 non-null float64\n",
      "x36               158392 non-null float64\n",
      "PL                158392 non-null float64\n",
      "x38               158392 non-null float64\n",
      "x39               158392 non-null float64\n",
      "x40               158392 non-null float64\n",
      "x42               158392 non-null float64\n",
      "x43               158392 non-null float64\n",
      "x44               158392 non-null float64\n",
      "x45               158392 non-null float64\n",
      "x46               158392 non-null float64\n",
      "x47               158392 non-null float64\n",
      "x48               158392 non-null float64\n",
      "x49               158392 non-null float64\n",
      "region_america    158392 non-null int64\n",
      "region_asia       158392 non-null int64\n",
      "region_euorpe     158392 non-null int64\n",
      "month_Apr         158392 non-null int64\n",
      "month_Aug         158392 non-null int64\n",
      "month_Dev         158392 non-null int64\n",
      "month_Feb         158392 non-null int64\n",
      "month_January     158392 non-null int64\n",
      "month_July        158392 non-null int64\n",
      "month_Jun         158392 non-null int64\n",
      "month_Mar         158392 non-null int64\n",
      "month_May         158392 non-null int64\n",
      "month_Nov         158392 non-null int64\n",
      "month_Oct         158392 non-null int64\n",
      "month_sept.       158392 non-null int64\n",
      "day_friday        158392 non-null int64\n",
      "day_monday        158392 non-null int64\n",
      "day_thurday       158392 non-null int64\n",
      "day_tuesday       158392 non-null int64\n",
      "day_wednesday     158392 non-null int64\n",
      "dtypes: float64(45), int64(20)\n",
      "memory usage: 84.8 MB\n"
     ]
    }
   ],
   "source": [
    "X.info()"
   ]
  },
  {
   "cell_type": "code",
   "execution_count": 110,
   "metadata": {},
   "outputs": [],
   "source": [
    "rf_Kfold=KFold(n_splits=5)\n",
    "lr_Kfold=KFold(n_splits=4)\n",
    "dt_Kfold=KFold(n_splits=4)\n",
    "xgb_Kfold=KFold(n_splits=5)\n",
    "gnb_Kfold=KFold(n_splits=5)\n",
    "#train_data=data.iloc[:,1:]\n",
    "train_data=X\n",
    "target_data= Y\n",
    "#data.iloc[:,0]"
   ]
  },
  {
   "cell_type": "code",
   "execution_count": 111,
   "metadata": {},
   "outputs": [
    {
     "data": {
      "text/html": [
       "<div>\n",
       "<style scoped>\n",
       "    .dataframe tbody tr th:only-of-type {\n",
       "        vertical-align: middle;\n",
       "    }\n",
       "\n",
       "    .dataframe tbody tr th {\n",
       "        vertical-align: top;\n",
       "    }\n",
       "\n",
       "    .dataframe thead th {\n",
       "        text-align: right;\n",
       "    }\n",
       "</style>\n",
       "<table border=\"1\" class=\"dataframe\">\n",
       "  <thead>\n",
       "    <tr style=\"text-align: right;\">\n",
       "      <th></th>\n",
       "      <th>y</th>\n",
       "    </tr>\n",
       "  </thead>\n",
       "  <tbody>\n",
       "    <tr>\n",
       "      <th>0</th>\n",
       "      <td>0</td>\n",
       "    </tr>\n",
       "    <tr>\n",
       "      <th>1</th>\n",
       "      <td>0</td>\n",
       "    </tr>\n",
       "    <tr>\n",
       "      <th>2</th>\n",
       "      <td>0</td>\n",
       "    </tr>\n",
       "    <tr>\n",
       "      <th>3</th>\n",
       "      <td>0</td>\n",
       "    </tr>\n",
       "    <tr>\n",
       "      <th>4</th>\n",
       "      <td>1</td>\n",
       "    </tr>\n",
       "  </tbody>\n",
       "</table>\n",
       "</div>"
      ],
      "text/plain": [
       "   y\n",
       "0  0\n",
       "1  0\n",
       "2  0\n",
       "3  0\n",
       "4  1"
      ]
     },
     "execution_count": 111,
     "metadata": {},
     "output_type": "execute_result"
    }
   ],
   "source": [
    "#data.head()\n",
    "train_data.head()\n",
    "target_data.head()"
   ]
  },
  {
   "cell_type": "code",
   "execution_count": 113,
   "metadata": {},
   "outputs": [
    {
     "name": "stdout",
     "output_type": "stream",
     "text": [
      "Train Index [ 31679  31680  31681 ... 158389 158390 158391]\n",
      "Test index [    0     1     2 ... 31676 31677 31678]\n"
     ]
    },
    {
     "name": "stderr",
     "output_type": "stream",
     "text": [
      "/anaconda3/lib/python3.6/site-packages/ipykernel_launcher.py:6: FutureWarning: \n",
      "Passing list-likes to .loc or [] with any missing label will raise\n",
      "KeyError in the future, you can use .reindex() as an alternative.\n",
      "\n",
      "See the documentation here:\n",
      "http://pandas.pydata.org/pandas-docs/stable/indexing.html#deprecate-loc-reindex-listlike\n",
      "  \n"
     ]
    },
    {
     "ename": "ValueError",
     "evalue": "Input contains NaN, infinity or a value too large for dtype('float32').",
     "output_type": "error",
     "traceback": [
      "\u001b[0;31m---------------------------------------------------------------------------\u001b[0m",
      "\u001b[0;31mValueError\u001b[0m                                Traceback (most recent call last)",
      "\u001b[0;32m<ipython-input-113-88ae5af9557b>\u001b[0m in \u001b[0;36m<module>\u001b[0;34m()\u001b[0m\n\u001b[1;32m      4\u001b[0m     \u001b[0mprint\u001b[0m\u001b[0;34m(\u001b[0m\u001b[0;34m'Train Index'\u001b[0m\u001b[0;34m,\u001b[0m \u001b[0mtrain_idx\u001b[0m\u001b[0;34m)\u001b[0m\u001b[0;34m\u001b[0m\u001b[0m\n\u001b[1;32m      5\u001b[0m     \u001b[0mprint\u001b[0m\u001b[0;34m(\u001b[0m\u001b[0;34m'Test index'\u001b[0m\u001b[0;34m,\u001b[0m \u001b[0mtest_idx\u001b[0m\u001b[0;34m)\u001b[0m\u001b[0;34m\u001b[0m\u001b[0m\n\u001b[0;32m----> 6\u001b[0;31m     \u001b[0mrf\u001b[0m\u001b[0;34m.\u001b[0m\u001b[0mfit\u001b[0m\u001b[0;34m(\u001b[0m\u001b[0mtrain_data\u001b[0m\u001b[0;34m.\u001b[0m\u001b[0mloc\u001b[0m\u001b[0;34m[\u001b[0m\u001b[0mtrain_idx\u001b[0m\u001b[0;34m]\u001b[0m\u001b[0;34m,\u001b[0m\u001b[0mtarget_data\u001b[0m\u001b[0;34m.\u001b[0m\u001b[0mloc\u001b[0m\u001b[0;34m[\u001b[0m\u001b[0mtrain_idx\u001b[0m\u001b[0;34m]\u001b[0m\u001b[0;34m)\u001b[0m\u001b[0;34m\u001b[0m\u001b[0m\n\u001b[0m\u001b[1;32m      7\u001b[0m     \u001b[0mrf_oof_predict\u001b[0m\u001b[0;34m[\u001b[0m\u001b[0mtest_idx\u001b[0m\u001b[0;34m]\u001b[0m\u001b[0;34m=\u001b[0m\u001b[0mrf\u001b[0m\u001b[0;34m.\u001b[0m\u001b[0mpredict_proba\u001b[0m\u001b[0;34m(\u001b[0m\u001b[0mtrain_data\u001b[0m\u001b[0;34m.\u001b[0m\u001b[0mloc\u001b[0m\u001b[0;34m[\u001b[0m\u001b[0mtest_idx\u001b[0m\u001b[0;34m]\u001b[0m\u001b[0;34m)\u001b[0m\u001b[0;34m[\u001b[0m\u001b[0;34m:\u001b[0m\u001b[0;34m,\u001b[0m\u001b[0;36m1\u001b[0m\u001b[0;34m]\u001b[0m\u001b[0;34m\u001b[0m\u001b[0m\n\u001b[1;32m      8\u001b[0m     \u001b[0;31m#[:,1]\u001b[0m\u001b[0;34m\u001b[0m\u001b[0;34m\u001b[0m\u001b[0m\n",
      "\u001b[0;32m/anaconda3/lib/python3.6/site-packages/sklearn/ensemble/forest.py\u001b[0m in \u001b[0;36mfit\u001b[0;34m(self, X, y, sample_weight)\u001b[0m\n\u001b[1;32m    245\u001b[0m         \"\"\"\n\u001b[1;32m    246\u001b[0m         \u001b[0;31m# Validate or convert input data\u001b[0m\u001b[0;34m\u001b[0m\u001b[0;34m\u001b[0m\u001b[0m\n\u001b[0;32m--> 247\u001b[0;31m         \u001b[0mX\u001b[0m \u001b[0;34m=\u001b[0m \u001b[0mcheck_array\u001b[0m\u001b[0;34m(\u001b[0m\u001b[0mX\u001b[0m\u001b[0;34m,\u001b[0m \u001b[0maccept_sparse\u001b[0m\u001b[0;34m=\u001b[0m\u001b[0;34m\"csc\"\u001b[0m\u001b[0;34m,\u001b[0m \u001b[0mdtype\u001b[0m\u001b[0;34m=\u001b[0m\u001b[0mDTYPE\u001b[0m\u001b[0;34m)\u001b[0m\u001b[0;34m\u001b[0m\u001b[0m\n\u001b[0m\u001b[1;32m    248\u001b[0m         \u001b[0my\u001b[0m \u001b[0;34m=\u001b[0m \u001b[0mcheck_array\u001b[0m\u001b[0;34m(\u001b[0m\u001b[0my\u001b[0m\u001b[0;34m,\u001b[0m \u001b[0maccept_sparse\u001b[0m\u001b[0;34m=\u001b[0m\u001b[0;34m'csc'\u001b[0m\u001b[0;34m,\u001b[0m \u001b[0mensure_2d\u001b[0m\u001b[0;34m=\u001b[0m\u001b[0;32mFalse\u001b[0m\u001b[0;34m,\u001b[0m \u001b[0mdtype\u001b[0m\u001b[0;34m=\u001b[0m\u001b[0;32mNone\u001b[0m\u001b[0;34m)\u001b[0m\u001b[0;34m\u001b[0m\u001b[0m\n\u001b[1;32m    249\u001b[0m         \u001b[0;32mif\u001b[0m \u001b[0msample_weight\u001b[0m \u001b[0;32mis\u001b[0m \u001b[0;32mnot\u001b[0m \u001b[0;32mNone\u001b[0m\u001b[0;34m:\u001b[0m\u001b[0;34m\u001b[0m\u001b[0m\n",
      "\u001b[0;32m/anaconda3/lib/python3.6/site-packages/sklearn/utils/validation.py\u001b[0m in \u001b[0;36mcheck_array\u001b[0;34m(array, accept_sparse, dtype, order, copy, force_all_finite, ensure_2d, allow_nd, ensure_min_samples, ensure_min_features, warn_on_dtype, estimator)\u001b[0m\n\u001b[1;32m    451\u001b[0m                              % (array.ndim, estimator_name))\n\u001b[1;32m    452\u001b[0m         \u001b[0;32mif\u001b[0m \u001b[0mforce_all_finite\u001b[0m\u001b[0;34m:\u001b[0m\u001b[0;34m\u001b[0m\u001b[0m\n\u001b[0;32m--> 453\u001b[0;31m             \u001b[0m_assert_all_finite\u001b[0m\u001b[0;34m(\u001b[0m\u001b[0marray\u001b[0m\u001b[0;34m)\u001b[0m\u001b[0;34m\u001b[0m\u001b[0m\n\u001b[0m\u001b[1;32m    454\u001b[0m \u001b[0;34m\u001b[0m\u001b[0m\n\u001b[1;32m    455\u001b[0m     \u001b[0mshape_repr\u001b[0m \u001b[0;34m=\u001b[0m \u001b[0m_shape_repr\u001b[0m\u001b[0;34m(\u001b[0m\u001b[0marray\u001b[0m\u001b[0;34m.\u001b[0m\u001b[0mshape\u001b[0m\u001b[0;34m)\u001b[0m\u001b[0;34m\u001b[0m\u001b[0m\n",
      "\u001b[0;32m/anaconda3/lib/python3.6/site-packages/sklearn/utils/validation.py\u001b[0m in \u001b[0;36m_assert_all_finite\u001b[0;34m(X)\u001b[0m\n\u001b[1;32m     42\u001b[0m             and not np.isfinite(X).all()):\n\u001b[1;32m     43\u001b[0m         raise ValueError(\"Input contains NaN, infinity\"\n\u001b[0;32m---> 44\u001b[0;31m                          \" or a value too large for %r.\" % X.dtype)\n\u001b[0m\u001b[1;32m     45\u001b[0m \u001b[0;34m\u001b[0m\u001b[0m\n\u001b[1;32m     46\u001b[0m \u001b[0;34m\u001b[0m\u001b[0m\n",
      "\u001b[0;31mValueError\u001b[0m: Input contains NaN, infinity or a value too large for dtype('float32')."
     ]
    }
   ],
   "source": [
    "rf=RandomForestClassifier()\n",
    "rf_oof_predict=np.zeros(X.shape[0])\n",
    "for train_idx, test_idx in rf_Kfold.split(train_data):\n",
    "    print('Train Index', train_idx)\n",
    "    print('Test index', test_idx)\n",
    "    rf.fit(train_data.loc[train_idx],target_data.loc[train_idx])\n",
    "    rf_oof_predict[test_idx]=rf.predict_proba(train_data.loc[test_idx])[:,1]\n",
    "    #[:,1]\n",
    "    print(\"Fold RF ROC score is %f\" % roc_auc_score(target_data[test_idx],rf_oof_predict[test_idx]))\n",
    "    "
   ]
  },
  {
   "cell_type": "code",
   "execution_count": 117,
   "metadata": {},
   "outputs": [],
   "source": [
    "#temp1 = X.describe()\n",
    "#temp1.to_csv('DesribedFloat.csv')\n",
    "X.to_csv('Normalized.csv')"
   ]
  },
  {
   "cell_type": "code",
   "execution_count": 114,
   "metadata": {},
   "outputs": [
    {
     "name": "stderr",
     "output_type": "stream",
     "text": [
      "/anaconda3/lib/python3.6/site-packages/sklearn/utils/validation.py:578: DataConversionWarning: A column-vector y was passed when a 1d array was expected. Please change the shape of y to (n_samples, ), for example using ravel().\n",
      "  y = column_or_1d(y, warn=True)\n",
      "/anaconda3/lib/python3.6/site-packages/ipykernel_launcher.py:5: FutureWarning: \n",
      "Passing list-likes to .loc or [] with any missing label will raise\n",
      "KeyError in the future, you can use .reindex() as an alternative.\n",
      "\n",
      "See the documentation here:\n",
      "http://pandas.pydata.org/pandas-docs/stable/indexing.html#deprecate-loc-reindex-listlike\n",
      "  \"\"\"\n"
     ]
    },
    {
     "ename": "ValueError",
     "evalue": "Input contains NaN, infinity or a value too large for dtype('float64').",
     "output_type": "error",
     "traceback": [
      "\u001b[0;31m---------------------------------------------------------------------------\u001b[0m",
      "\u001b[0;31mValueError\u001b[0m                                Traceback (most recent call last)",
      "\u001b[0;32m<ipython-input-114-66134b972513>\u001b[0m in \u001b[0;36m<module>\u001b[0;34m()\u001b[0m\n\u001b[1;32m      3\u001b[0m \u001b[0;32mfor\u001b[0m \u001b[0mtrain_idx\u001b[0m\u001b[0;34m,\u001b[0m \u001b[0mtest_idx\u001b[0m \u001b[0;32min\u001b[0m \u001b[0mlr_Kfold\u001b[0m\u001b[0;34m.\u001b[0m\u001b[0msplit\u001b[0m\u001b[0;34m(\u001b[0m\u001b[0mtrain_data\u001b[0m\u001b[0;34m)\u001b[0m\u001b[0;34m:\u001b[0m\u001b[0;34m\u001b[0m\u001b[0m\n\u001b[1;32m      4\u001b[0m     \u001b[0mlr\u001b[0m\u001b[0;34m.\u001b[0m\u001b[0mfit\u001b[0m\u001b[0;34m(\u001b[0m\u001b[0mtrain_data\u001b[0m\u001b[0;34m.\u001b[0m\u001b[0miloc\u001b[0m\u001b[0;34m[\u001b[0m\u001b[0mtrain_idx\u001b[0m\u001b[0;34m]\u001b[0m\u001b[0;34m,\u001b[0m\u001b[0mtarget_data\u001b[0m\u001b[0;34m.\u001b[0m\u001b[0miloc\u001b[0m\u001b[0;34m[\u001b[0m\u001b[0mtrain_idx\u001b[0m\u001b[0;34m]\u001b[0m\u001b[0;34m)\u001b[0m\u001b[0;34m\u001b[0m\u001b[0m\n\u001b[0;32m----> 5\u001b[0;31m     \u001b[0mlr_oof_predict\u001b[0m\u001b[0;34m[\u001b[0m\u001b[0mtest_idx\u001b[0m\u001b[0;34m]\u001b[0m\u001b[0;34m=\u001b[0m\u001b[0mlr\u001b[0m\u001b[0;34m.\u001b[0m\u001b[0mpredict_proba\u001b[0m\u001b[0;34m(\u001b[0m\u001b[0mtrain_data\u001b[0m\u001b[0;34m.\u001b[0m\u001b[0mloc\u001b[0m\u001b[0;34m[\u001b[0m\u001b[0mtest_idx\u001b[0m\u001b[0;34m]\u001b[0m\u001b[0;34m)\u001b[0m\u001b[0;34m[\u001b[0m\u001b[0;34m:\u001b[0m\u001b[0;34m,\u001b[0m\u001b[0;36m1\u001b[0m\u001b[0;34m]\u001b[0m\u001b[0;34m\u001b[0m\u001b[0m\n\u001b[0m\u001b[1;32m      6\u001b[0m     \u001b[0mprint\u001b[0m\u001b[0;34m(\u001b[0m\u001b[0;34m\"Fold LR ROC score is %f\"\u001b[0m \u001b[0;34m%\u001b[0m \u001b[0mroc_auc_score\u001b[0m\u001b[0;34m(\u001b[0m\u001b[0mtarget_data\u001b[0m\u001b[0;34m[\u001b[0m\u001b[0mtest_idx\u001b[0m\u001b[0;34m]\u001b[0m\u001b[0;34m,\u001b[0m\u001b[0mlr_oof_predict\u001b[0m\u001b[0;34m[\u001b[0m\u001b[0mtest_idx\u001b[0m\u001b[0;34m]\u001b[0m\u001b[0;34m)\u001b[0m\u001b[0;34m)\u001b[0m\u001b[0;34m\u001b[0m\u001b[0m\n",
      "\u001b[0;32m/anaconda3/lib/python3.6/site-packages/sklearn/linear_model/logistic.py\u001b[0m in \u001b[0;36mpredict_proba\u001b[0;34m(self, X)\u001b[0m\n\u001b[1;32m   1334\u001b[0m         \u001b[0mcalculate_ovr\u001b[0m \u001b[0;34m=\u001b[0m \u001b[0mself\u001b[0m\u001b[0;34m.\u001b[0m\u001b[0mcoef_\u001b[0m\u001b[0;34m.\u001b[0m\u001b[0mshape\u001b[0m\u001b[0;34m[\u001b[0m\u001b[0;36m0\u001b[0m\u001b[0;34m]\u001b[0m \u001b[0;34m==\u001b[0m \u001b[0;36m1\u001b[0m \u001b[0;32mor\u001b[0m \u001b[0mself\u001b[0m\u001b[0;34m.\u001b[0m\u001b[0mmulti_class\u001b[0m \u001b[0;34m==\u001b[0m \u001b[0;34m\"ovr\"\u001b[0m\u001b[0;34m\u001b[0m\u001b[0m\n\u001b[1;32m   1335\u001b[0m         \u001b[0;32mif\u001b[0m \u001b[0mcalculate_ovr\u001b[0m\u001b[0;34m:\u001b[0m\u001b[0;34m\u001b[0m\u001b[0m\n\u001b[0;32m-> 1336\u001b[0;31m             \u001b[0;32mreturn\u001b[0m \u001b[0msuper\u001b[0m\u001b[0;34m(\u001b[0m\u001b[0mLogisticRegression\u001b[0m\u001b[0;34m,\u001b[0m \u001b[0mself\u001b[0m\u001b[0;34m)\u001b[0m\u001b[0;34m.\u001b[0m\u001b[0m_predict_proba_lr\u001b[0m\u001b[0;34m(\u001b[0m\u001b[0mX\u001b[0m\u001b[0;34m)\u001b[0m\u001b[0;34m\u001b[0m\u001b[0m\n\u001b[0m\u001b[1;32m   1337\u001b[0m         \u001b[0;32melse\u001b[0m\u001b[0;34m:\u001b[0m\u001b[0;34m\u001b[0m\u001b[0m\n\u001b[1;32m   1338\u001b[0m             \u001b[0;32mreturn\u001b[0m \u001b[0msoftmax\u001b[0m\u001b[0;34m(\u001b[0m\u001b[0mself\u001b[0m\u001b[0;34m.\u001b[0m\u001b[0mdecision_function\u001b[0m\u001b[0;34m(\u001b[0m\u001b[0mX\u001b[0m\u001b[0;34m)\u001b[0m\u001b[0;34m,\u001b[0m \u001b[0mcopy\u001b[0m\u001b[0;34m=\u001b[0m\u001b[0;32mFalse\u001b[0m\u001b[0;34m)\u001b[0m\u001b[0;34m\u001b[0m\u001b[0m\n",
      "\u001b[0;32m/anaconda3/lib/python3.6/site-packages/sklearn/linear_model/base.py\u001b[0m in \u001b[0;36m_predict_proba_lr\u001b[0;34m(self, X)\u001b[0m\n\u001b[1;32m    336\u001b[0m         \u001b[0mmulticlass\u001b[0m \u001b[0;32mis\u001b[0m \u001b[0mhandled\u001b[0m \u001b[0mby\u001b[0m \u001b[0mnormalizing\u001b[0m \u001b[0mthat\u001b[0m \u001b[0mover\u001b[0m \u001b[0mall\u001b[0m \u001b[0mclasses\u001b[0m\u001b[0;34m.\u001b[0m\u001b[0;34m\u001b[0m\u001b[0m\n\u001b[1;32m    337\u001b[0m         \"\"\"\n\u001b[0;32m--> 338\u001b[0;31m         \u001b[0mprob\u001b[0m \u001b[0;34m=\u001b[0m \u001b[0mself\u001b[0m\u001b[0;34m.\u001b[0m\u001b[0mdecision_function\u001b[0m\u001b[0;34m(\u001b[0m\u001b[0mX\u001b[0m\u001b[0;34m)\u001b[0m\u001b[0;34m\u001b[0m\u001b[0m\n\u001b[0m\u001b[1;32m    339\u001b[0m         \u001b[0mprob\u001b[0m \u001b[0;34m*=\u001b[0m \u001b[0;34m-\u001b[0m\u001b[0;36m1\u001b[0m\u001b[0;34m\u001b[0m\u001b[0m\n\u001b[1;32m    340\u001b[0m         \u001b[0mnp\u001b[0m\u001b[0;34m.\u001b[0m\u001b[0mexp\u001b[0m\u001b[0;34m(\u001b[0m\u001b[0mprob\u001b[0m\u001b[0;34m,\u001b[0m \u001b[0mprob\u001b[0m\u001b[0;34m)\u001b[0m\u001b[0;34m\u001b[0m\u001b[0m\n",
      "\u001b[0;32m/anaconda3/lib/python3.6/site-packages/sklearn/linear_model/base.py\u001b[0m in \u001b[0;36mdecision_function\u001b[0;34m(self, X)\u001b[0m\n\u001b[1;32m    298\u001b[0m                                  \"yet\" % {'name': type(self).__name__})\n\u001b[1;32m    299\u001b[0m \u001b[0;34m\u001b[0m\u001b[0m\n\u001b[0;32m--> 300\u001b[0;31m         \u001b[0mX\u001b[0m \u001b[0;34m=\u001b[0m \u001b[0mcheck_array\u001b[0m\u001b[0;34m(\u001b[0m\u001b[0mX\u001b[0m\u001b[0;34m,\u001b[0m \u001b[0maccept_sparse\u001b[0m\u001b[0;34m=\u001b[0m\u001b[0;34m'csr'\u001b[0m\u001b[0;34m)\u001b[0m\u001b[0;34m\u001b[0m\u001b[0m\n\u001b[0m\u001b[1;32m    301\u001b[0m \u001b[0;34m\u001b[0m\u001b[0m\n\u001b[1;32m    302\u001b[0m         \u001b[0mn_features\u001b[0m \u001b[0;34m=\u001b[0m \u001b[0mself\u001b[0m\u001b[0;34m.\u001b[0m\u001b[0mcoef_\u001b[0m\u001b[0;34m.\u001b[0m\u001b[0mshape\u001b[0m\u001b[0;34m[\u001b[0m\u001b[0;36m1\u001b[0m\u001b[0;34m]\u001b[0m\u001b[0;34m\u001b[0m\u001b[0m\n",
      "\u001b[0;32m/anaconda3/lib/python3.6/site-packages/sklearn/utils/validation.py\u001b[0m in \u001b[0;36mcheck_array\u001b[0;34m(array, accept_sparse, dtype, order, copy, force_all_finite, ensure_2d, allow_nd, ensure_min_samples, ensure_min_features, warn_on_dtype, estimator)\u001b[0m\n\u001b[1;32m    451\u001b[0m                              % (array.ndim, estimator_name))\n\u001b[1;32m    452\u001b[0m         \u001b[0;32mif\u001b[0m \u001b[0mforce_all_finite\u001b[0m\u001b[0;34m:\u001b[0m\u001b[0;34m\u001b[0m\u001b[0m\n\u001b[0;32m--> 453\u001b[0;31m             \u001b[0m_assert_all_finite\u001b[0m\u001b[0;34m(\u001b[0m\u001b[0marray\u001b[0m\u001b[0;34m)\u001b[0m\u001b[0;34m\u001b[0m\u001b[0m\n\u001b[0m\u001b[1;32m    454\u001b[0m \u001b[0;34m\u001b[0m\u001b[0m\n\u001b[1;32m    455\u001b[0m     \u001b[0mshape_repr\u001b[0m \u001b[0;34m=\u001b[0m \u001b[0m_shape_repr\u001b[0m\u001b[0;34m(\u001b[0m\u001b[0marray\u001b[0m\u001b[0;34m.\u001b[0m\u001b[0mshape\u001b[0m\u001b[0;34m)\u001b[0m\u001b[0;34m\u001b[0m\u001b[0m\n",
      "\u001b[0;32m/anaconda3/lib/python3.6/site-packages/sklearn/utils/validation.py\u001b[0m in \u001b[0;36m_assert_all_finite\u001b[0;34m(X)\u001b[0m\n\u001b[1;32m     42\u001b[0m             and not np.isfinite(X).all()):\n\u001b[1;32m     43\u001b[0m         raise ValueError(\"Input contains NaN, infinity\"\n\u001b[0;32m---> 44\u001b[0;31m                          \" or a value too large for %r.\" % X.dtype)\n\u001b[0m\u001b[1;32m     45\u001b[0m \u001b[0;34m\u001b[0m\u001b[0m\n\u001b[1;32m     46\u001b[0m \u001b[0;34m\u001b[0m\u001b[0m\n",
      "\u001b[0;31mValueError\u001b[0m: Input contains NaN, infinity or a value too large for dtype('float64')."
     ]
    }
   ],
   "source": [
    "lr=LogisticRegression()\n",
    "lr_oof_predict=np.zeros(train_data.shape[0])\n",
    "for train_idx, test_idx in lr_Kfold.split(train_data):\n",
    "    lr.fit(train_data.iloc[train_idx],target_data.iloc[train_idx])\n",
    "    lr_oof_predict[test_idx]=lr.predict_proba(train_data.loc[test_idx])[:,1]\n",
    "    print(\"Fold LR ROC score is %f\" % roc_auc_score(target_data[test_idx],lr_oof_predict[test_idx])) "
   ]
  },
  {
   "cell_type": "code",
   "execution_count": null,
   "metadata": {},
   "outputs": [],
   "source": [
    "dt= DecisionTreeClassifier()\n",
    "dt_oof_predict=np.zeros(data.shape[0])\n",
    "for train_idx, test_idx in dt_Kfold.split(data):\n",
    "    dt.fit(train_data.iloc[train_idx],target_data.iloc[train_idx])\n",
    "    dt_oof_predict[test_idx]=dt.predict_proba(train_data.loc[test_idx])[:,1]\n",
    "    print(\"Fold DT ROC score is %f\" % roc_auc_score(target_data[test_idx],dt_oof_predict[test_idx]))\n",
    "    "
   ]
  },
  {
   "cell_type": "code",
   "execution_count": null,
   "metadata": {},
   "outputs": [],
   "source": [
    "xgb= XGBClassifier()\n",
    "xgb_oof_predict=np.zeros(data.shape[0])\n",
    "for train_idx, test_idx in xgb_Kfold.split(data):\n",
    "    xgb.fit(train_data.iloc[train_idx],target_data.iloc[train_idx])\n",
    "    xgb_oof_predict[test_idx]=xgb.predict_proba(train_data.loc[test_idx])[:,1]\n",
    "    print(\"Fold XGB ROC score is %f\" % roc_auc_score(target_data[test_idx],xgb_oof_predict[test_idx]))"
   ]
  },
  {
   "cell_type": "code",
   "execution_count": null,
   "metadata": {},
   "outputs": [],
   "source": [
    "gnb= GaussianNB()\n",
    "gnb_oof_predict=np.zeros(data.shape[0])\n",
    "for train_idx, test_idx in gnb_Kfold.split(data):\n",
    "    gnb.fit(train_data.iloc[train_idx],target_data.iloc[train_idx])\n",
    "    gnb_oof_predict[test_idx]=gnb.predict_proba(train_data.loc[test_idx])[:,1]\n",
    "    print(\"Fold GNB ROC score is %f\" % roc_auc_score(target_data[test_idx],gnb_oof_predict[test_idx]))"
   ]
  },
  {
   "cell_type": "code",
   "execution_count": null,
   "metadata": {},
   "outputs": [],
   "source": [
    "rf_oof_predict\n",
    "xgb_oof_predict"
   ]
  },
  {
   "cell_type": "markdown",
   "metadata": {},
   "source": [
    "#### In stage 2 we will pass the oof predictions of RF and XGB to NN and RF to find out how the model performs ."
   ]
  },
  {
   "cell_type": "code",
   "execution_count": null,
   "metadata": {},
   "outputs": [],
   "source": [
    "from keras.models import Sequential\n",
    "from keras.layers.core import Dense, Dropout, Activation\n",
    "from keras.optimizers import SGD\n",
    "from keras.optimizers import Adam\n",
    "from keras.optimizers import Adagrad\n",
    "from keras.optimizers import RMSprop"
   ]
  },
  {
   "cell_type": "code",
   "execution_count": null,
   "metadata": {},
   "outputs": [],
   "source": [
    "from sklearn.linear_model import \n",
    "stage2=LinearRegression()\n"
   ]
  },
  {
   "cell_type": "code",
   "execution_count": null,
   "metadata": {},
   "outputs": [],
   "source": [
    "stage2_data=pd.DataFrame({'RF_data':rf_oof_predict,'XGB_data':xgb_oof_predict})"
   ]
  },
  {
   "cell_type": "code",
   "execution_count": null,
   "metadata": {},
   "outputs": [],
   "source": [
    "stage2_data"
   ]
  },
  {
   "cell_type": "code",
   "execution_count": null,
   "metadata": {},
   "outputs": [],
   "source": [
    "stage2.fit(stage2_data,target_data)"
   ]
  },
  {
   "cell_type": "code",
   "execution_count": null,
   "metadata": {},
   "outputs": [],
   "source": [
    "stage2.coef_"
   ]
  },
  {
   "cell_type": "code",
   "execution_count": null,
   "metadata": {},
   "outputs": [],
   "source": [
    "lr.fit(train_data,target_data)\n",
    "rf.fit(train_data,target_data)"
   ]
  },
  {
   "cell_type": "code",
   "execution_count": null,
   "metadata": {},
   "outputs": [],
   "source": [
    "test_lr=lr.predict_proba(test.loc[:,1:])[:,1]\n",
    "print(\"Log Reg score is %f\" % roc_auc_score(test.loc[:,0],test_lr))\n",
    "test_rf=rf.predict_proba(test.loc[:,1:])[:,1]\n",
    "print(\"RF score is %f\" % roc_auc_score(test.loc[:,0],test_rf))\n",
    "test_s2=pd.DataFrame({'RF data':test_rf,'Log Data':test_lr})\n",
    "test_stage2=stage2.predict(test_s2)\n",
    "print(\"Final Stage score is % f\" % roc_auc_score(test.loc[:,0],test_stage2))"
   ]
  },
  {
   "cell_type": "code",
   "execution_count": null,
   "metadata": {},
   "outputs": [],
   "source": [
    "data.shape"
   ]
  },
  {
   "cell_type": "code",
   "execution_count": null,
   "metadata": {},
   "outputs": [],
   "source": [
    "rf.fit(train_data,target_data)\n",
    "lr.fit(train_data,target_data)"
   ]
  },
  {
   "cell_type": "code",
   "execution_count": null,
   "metadata": {},
   "outputs": [],
   "source": [
    "rf_preds=rf.predict_proba(train_data)[:,1]\n",
    "lr_preds=lr.predict_proba(train_data)[:,1]\n",
    "train_data_s2=pd.DataFrame({'RF data':rf_preds,'Log Data':lr_preds})\n",
    "stage2.fit(train_data_s2,target_data)\n",
    "\n"
   ]
  },
  {
   "cell_type": "code",
   "execution_count": null,
   "metadata": {},
   "outputs": [],
   "source": [
    "rf_test=rf.predict_proba(test.loc[:,1:])[:,1]\n",
    "print(\"RF score is %f\" % roc_auc_score(test.loc[:,0],rf_test))\n",
    "lr_test=lr.predict_proba(test.loc[:,1:])[:,1]\n",
    "print(\"Log Reg score is %f\" % roc_auc_score(test.loc[:,0],lr_test))\n",
    "test_data_s2=pd.DataFrame({'RF data':rf_test,'Log Data':lr_test})\n",
    "final=stage2.predict(test_data_s2)\n",
    "print(\"Final score is %f\" % roc_auc_score(test.loc[:,0],final))"
   ]
  },
  {
   "cell_type": "code",
   "execution_count": null,
   "metadata": {},
   "outputs": [],
   "source": [
    "test_s2['target']=target_data"
   ]
  },
  {
   "cell_type": "code",
   "execution_count": null,
   "metadata": {},
   "outputs": [],
   "source": [
    "test_s2"
   ]
  },
  {
   "cell_type": "code",
   "execution_count": null,
   "metadata": {},
   "outputs": [],
   "source": []
  }
 ],
 "metadata": {
  "kernelspec": {
   "display_name": "Python 3",
   "language": "python",
   "name": "python3"
  },
  "language_info": {
   "codemirror_mode": {
    "name": "ipython",
    "version": 3
   },
   "file_extension": ".py",
   "mimetype": "text/x-python",
   "name": "python",
   "nbconvert_exporter": "python",
   "pygments_lexer": "ipython3",
   "version": "3.6.4"
  }
 },
 "nbformat": 4,
 "nbformat_minor": 2
}
